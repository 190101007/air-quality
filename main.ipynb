{
 "cells": [
  {
   "cell_type": "code",
   "id": "initial_id",
   "metadata": {
    "collapsed": true,
    "ExecuteTime": {
     "end_time": "2025-08-27T19:04:37.010446Z",
     "start_time": "2025-08-27T19:04:36.617582Z"
    }
   },
   "source": [
    "import pandas as pd\n",
    "import numpy as np\n",
    "from sklearn.model_selection import train_test_split\n"
   ],
   "outputs": [],
   "execution_count": 2
  },
  {
   "metadata": {},
   "cell_type": "markdown",
   "source": "DATASET'İ İNCELEME",
   "id": "e447fa8c262f1278"
  },
  {
   "metadata": {
    "ExecuteTime": {
     "end_time": "2025-08-27T19:04:37.051023Z",
     "start_time": "2025-08-27T19:04:37.021240Z"
    }
   },
   "cell_type": "code",
   "source": "df = pd.read_csv(\"updated_pollution_dataset.csv\")",
   "id": "f6070383b3347d1",
   "outputs": [],
   "execution_count": 3
  },
  {
   "metadata": {
    "ExecuteTime": {
     "end_time": "2025-08-27T19:04:37.103017Z",
     "start_time": "2025-08-27T19:04:37.087412Z"
    }
   },
   "cell_type": "code",
   "source": "df[\"Air Quality\"]",
   "id": "841ed6fae120f634",
   "outputs": [
    {
     "data": {
      "text/plain": [
       "0        Moderate\n",
       "1        Moderate\n",
       "2        Moderate\n",
       "3            Good\n",
       "4            Good\n",
       "          ...    \n",
       "4995    Hazardous\n",
       "4996     Moderate\n",
       "4997     Moderate\n",
       "4998         Good\n",
       "4999     Moderate\n",
       "Name: Air Quality, Length: 5000, dtype: object"
      ]
     },
     "execution_count": 4,
     "metadata": {},
     "output_type": "execute_result"
    }
   ],
   "execution_count": 4
  },
  {
   "metadata": {
    "ExecuteTime": {
     "end_time": "2025-08-27T19:04:37.345432Z",
     "start_time": "2025-08-27T19:04:37.319592Z"
    }
   },
   "cell_type": "code",
   "source": "df.info()",
   "id": "f0151317557c2c73",
   "outputs": [
    {
     "name": "stdout",
     "output_type": "stream",
     "text": [
      "<class 'pandas.core.frame.DataFrame'>\n",
      "RangeIndex: 5000 entries, 0 to 4999\n",
      "Data columns (total 10 columns):\n",
      " #   Column                         Non-Null Count  Dtype  \n",
      "---  ------                         --------------  -----  \n",
      " 0   Temperature                    5000 non-null   float64\n",
      " 1   Humidity                       5000 non-null   float64\n",
      " 2   PM2.5                          5000 non-null   float64\n",
      " 3   PM10                           5000 non-null   float64\n",
      " 4   NO2                            5000 non-null   float64\n",
      " 5   SO2                            5000 non-null   float64\n",
      " 6   CO                             5000 non-null   float64\n",
      " 7   Proximity_to_Industrial_Areas  5000 non-null   float64\n",
      " 8   Population_Density             5000 non-null   int64  \n",
      " 9   Air Quality                    5000 non-null   object \n",
      "dtypes: float64(8), int64(1), object(1)\n",
      "memory usage: 390.8+ KB\n"
     ]
    }
   ],
   "execution_count": 5
  },
  {
   "metadata": {
    "ExecuteTime": {
     "end_time": "2025-08-27T19:04:37.697917Z",
     "start_time": "2025-08-27T19:04:37.691813Z"
    }
   },
   "cell_type": "code",
   "source": [
    "#Eksik verilerin kontrolü yapıldı. zaten bi üst satırda kontrol ettim ama bu şekilde de kontrol edilebilir\n",
    "nan_columns = df.columns[df.isnull().any()].tolist()\n",
    "print(nan_columns)"
   ],
   "id": "c01cc0016f0319f9",
   "outputs": [
    {
     "name": "stdout",
     "output_type": "stream",
     "text": [
      "[]\n"
     ]
    }
   ],
   "execution_count": 6
  },
  {
   "metadata": {
    "ExecuteTime": {
     "end_time": "2025-08-27T19:04:38.075124Z",
     "start_time": "2025-08-27T19:04:38.071652Z"
    }
   },
   "cell_type": "code",
   "source": "# Hiç null değer yok, eksik veri yok, tek kategorik değer hava kalitesi",
   "id": "57c5d7f8273337f6",
   "outputs": [],
   "execution_count": 7
  },
  {
   "metadata": {
    "ExecuteTime": {
     "end_time": "2025-08-27T19:04:38.225910Z",
     "start_time": "2025-08-27T19:04:38.219176Z"
    }
   },
   "cell_type": "code",
   "source": [
    "# Kategorik verilerin benzersiz değer analizi yapıldı. Beklendiği gibi. Alt satırda da aslında kontrol edilebilir. Ben bu şekilde yazmak istedim\n",
    "df[\"Air Quality\"].unique()"
   ],
   "id": "7959f195a6456968",
   "outputs": [
    {
     "data": {
      "text/plain": [
       "array(['Moderate', 'Good', 'Hazardous', 'Poor'], dtype=object)"
      ]
     },
     "execution_count": 8,
     "metadata": {},
     "output_type": "execute_result"
    }
   ],
   "execution_count": 8
  },
  {
   "metadata": {
    "ExecuteTime": {
     "end_time": "2025-08-27T19:04:38.437274Z",
     "start_time": "2025-08-27T19:04:38.431474Z"
    }
   },
   "cell_type": "code",
   "source": [
    "\"\"\"\n",
    "Sayısal değişkenlerin betimleyici istatistikleri\n",
    "\"\"\""
   ],
   "id": "10ab1bd5c0b13674",
   "outputs": [
    {
     "data": {
      "text/plain": [
       "'\\nSayısal değişkenlerin betimleyici istatistikleri\\n'"
      ]
     },
     "execution_count": 9,
     "metadata": {},
     "output_type": "execute_result"
    }
   ],
   "execution_count": 9
  },
  {
   "metadata": {
    "ExecuteTime": {
     "end_time": "2025-08-27T19:04:38.655153Z",
     "start_time": "2025-08-27T19:04:38.615297Z"
    }
   },
   "cell_type": "code",
   "source": [
    "# Tranpose ile okunulabilirliği artırdım.\n",
    "df.describe().T"
   ],
   "id": "d414081c6e4fa542",
   "outputs": [
    {
     "data": {
      "text/plain": [
       "                                count        mean         std     min     25%  \\\n",
       "Temperature                    5000.0   30.029020    6.720661   13.40   25.10   \n",
       "Humidity                       5000.0   70.056120   15.863577   36.00   58.30   \n",
       "PM2.5                          5000.0   20.142140   24.554546    0.00    4.60   \n",
       "PM10                           5000.0   30.218360   27.349199   -0.20   12.30   \n",
       "NO2                            5000.0   26.412100    8.895356    7.40   20.10   \n",
       "SO2                            5000.0   10.014820    6.750303   -6.20    5.10   \n",
       "CO                             5000.0    1.500354    0.546027    0.65    1.03   \n",
       "Proximity_to_Industrial_Areas  5000.0    8.425400    3.610944    2.50    5.40   \n",
       "Population_Density             5000.0  497.423800  152.754084  188.00  381.00   \n",
       "\n",
       "                                  50%      75%     max  \n",
       "Temperature                     29.00   34.000   58.60  \n",
       "Humidity                        69.80   80.300  128.10  \n",
       "PM2.5                           12.00   26.100  295.00  \n",
       "PM10                            21.70   38.100  315.80  \n",
       "NO2                             25.30   31.900   64.90  \n",
       "SO2                              8.00   13.725   44.90  \n",
       "CO                               1.41    1.840    3.72  \n",
       "Proximity_to_Industrial_Areas    7.90   11.100   25.80  \n",
       "Population_Density             494.00  600.000  957.00  "
      ],
      "text/html": [
       "<div>\n",
       "<style scoped>\n",
       "    .dataframe tbody tr th:only-of-type {\n",
       "        vertical-align: middle;\n",
       "    }\n",
       "\n",
       "    .dataframe tbody tr th {\n",
       "        vertical-align: top;\n",
       "    }\n",
       "\n",
       "    .dataframe thead th {\n",
       "        text-align: right;\n",
       "    }\n",
       "</style>\n",
       "<table border=\"1\" class=\"dataframe\">\n",
       "  <thead>\n",
       "    <tr style=\"text-align: right;\">\n",
       "      <th></th>\n",
       "      <th>count</th>\n",
       "      <th>mean</th>\n",
       "      <th>std</th>\n",
       "      <th>min</th>\n",
       "      <th>25%</th>\n",
       "      <th>50%</th>\n",
       "      <th>75%</th>\n",
       "      <th>max</th>\n",
       "    </tr>\n",
       "  </thead>\n",
       "  <tbody>\n",
       "    <tr>\n",
       "      <th>Temperature</th>\n",
       "      <td>5000.0</td>\n",
       "      <td>30.029020</td>\n",
       "      <td>6.720661</td>\n",
       "      <td>13.40</td>\n",
       "      <td>25.10</td>\n",
       "      <td>29.00</td>\n",
       "      <td>34.000</td>\n",
       "      <td>58.60</td>\n",
       "    </tr>\n",
       "    <tr>\n",
       "      <th>Humidity</th>\n",
       "      <td>5000.0</td>\n",
       "      <td>70.056120</td>\n",
       "      <td>15.863577</td>\n",
       "      <td>36.00</td>\n",
       "      <td>58.30</td>\n",
       "      <td>69.80</td>\n",
       "      <td>80.300</td>\n",
       "      <td>128.10</td>\n",
       "    </tr>\n",
       "    <tr>\n",
       "      <th>PM2.5</th>\n",
       "      <td>5000.0</td>\n",
       "      <td>20.142140</td>\n",
       "      <td>24.554546</td>\n",
       "      <td>0.00</td>\n",
       "      <td>4.60</td>\n",
       "      <td>12.00</td>\n",
       "      <td>26.100</td>\n",
       "      <td>295.00</td>\n",
       "    </tr>\n",
       "    <tr>\n",
       "      <th>PM10</th>\n",
       "      <td>5000.0</td>\n",
       "      <td>30.218360</td>\n",
       "      <td>27.349199</td>\n",
       "      <td>-0.20</td>\n",
       "      <td>12.30</td>\n",
       "      <td>21.70</td>\n",
       "      <td>38.100</td>\n",
       "      <td>315.80</td>\n",
       "    </tr>\n",
       "    <tr>\n",
       "      <th>NO2</th>\n",
       "      <td>5000.0</td>\n",
       "      <td>26.412100</td>\n",
       "      <td>8.895356</td>\n",
       "      <td>7.40</td>\n",
       "      <td>20.10</td>\n",
       "      <td>25.30</td>\n",
       "      <td>31.900</td>\n",
       "      <td>64.90</td>\n",
       "    </tr>\n",
       "    <tr>\n",
       "      <th>SO2</th>\n",
       "      <td>5000.0</td>\n",
       "      <td>10.014820</td>\n",
       "      <td>6.750303</td>\n",
       "      <td>-6.20</td>\n",
       "      <td>5.10</td>\n",
       "      <td>8.00</td>\n",
       "      <td>13.725</td>\n",
       "      <td>44.90</td>\n",
       "    </tr>\n",
       "    <tr>\n",
       "      <th>CO</th>\n",
       "      <td>5000.0</td>\n",
       "      <td>1.500354</td>\n",
       "      <td>0.546027</td>\n",
       "      <td>0.65</td>\n",
       "      <td>1.03</td>\n",
       "      <td>1.41</td>\n",
       "      <td>1.840</td>\n",
       "      <td>3.72</td>\n",
       "    </tr>\n",
       "    <tr>\n",
       "      <th>Proximity_to_Industrial_Areas</th>\n",
       "      <td>5000.0</td>\n",
       "      <td>8.425400</td>\n",
       "      <td>3.610944</td>\n",
       "      <td>2.50</td>\n",
       "      <td>5.40</td>\n",
       "      <td>7.90</td>\n",
       "      <td>11.100</td>\n",
       "      <td>25.80</td>\n",
       "    </tr>\n",
       "    <tr>\n",
       "      <th>Population_Density</th>\n",
       "      <td>5000.0</td>\n",
       "      <td>497.423800</td>\n",
       "      <td>152.754084</td>\n",
       "      <td>188.00</td>\n",
       "      <td>381.00</td>\n",
       "      <td>494.00</td>\n",
       "      <td>600.000</td>\n",
       "      <td>957.00</td>\n",
       "    </tr>\n",
       "  </tbody>\n",
       "</table>\n",
       "</div>"
      ]
     },
     "execution_count": 10,
     "metadata": {},
     "output_type": "execute_result"
    }
   ],
   "execution_count": 10
  },
  {
   "metadata": {
    "ExecuteTime": {
     "end_time": "2025-08-27T19:04:38.873209Z",
     "start_time": "2025-08-27T19:04:38.869286Z"
    }
   },
   "cell_type": "code",
   "source": [
    "# mean: ortalama,\n",
    "# std: standart sapma,\n",
    "# %50: medyan"
   ],
   "id": "3dc476f87c286f49",
   "outputs": [],
   "execution_count": 11
  },
  {
   "metadata": {
    "ExecuteTime": {
     "end_time": "2025-08-27T19:04:39.010388Z",
     "start_time": "2025-08-27T19:04:39.005576Z"
    }
   },
   "cell_type": "code",
   "source": [
    "\"\"\"\n",
    "Korelasyon analizi ile değişkenler arası ilişkilerin incelenmesi.\n",
    "\"\"\""
   ],
   "id": "ee7104c2d89dc465",
   "outputs": [
    {
     "data": {
      "text/plain": [
       "'\\nKorelasyon analizi ile değişkenler arası ilişkilerin incelenmesi.\\n'"
      ]
     },
     "execution_count": 12,
     "metadata": {},
     "output_type": "execute_result"
    }
   ],
   "execution_count": 12
  },
  {
   "metadata": {
    "ExecuteTime": {
     "end_time": "2025-08-27T19:04:39.320530Z",
     "start_time": "2025-08-27T19:04:39.314496Z"
    }
   },
   "cell_type": "code",
   "source": [
    "\"\"\"\n",
    "korelasyonlarına bakalım ama air quality kategorik olduğu için kabul etmiyor.\n",
    "o yüzden x ve y olarak ayırıp x korelasyonunu hesaplayacağım.\n",
    "\"\"\""
   ],
   "id": "5981a09119adc5de",
   "outputs": [
    {
     "data": {
      "text/plain": [
       "'\\nkorelasyonlarına bakalım ama air quality kategorik olduğu için kabul etmiyor.\\no yüzden x ve y olarak ayırıp x korelasyonunu hesaplayacağım.\\n'"
      ]
     },
     "execution_count": 13,
     "metadata": {},
     "output_type": "execute_result"
    }
   ],
   "execution_count": 13
  },
  {
   "metadata": {
    "ExecuteTime": {
     "end_time": "2025-08-27T19:04:39.439328Z",
     "start_time": "2025-08-27T19:04:39.432254Z"
    }
   },
   "cell_type": "code",
   "source": [
    "X = df.drop([\"Air Quality\"], axis=1)\n",
    "y = df[\"Air Quality\"]"
   ],
   "id": "956b5e555b6096c5",
   "outputs": [],
   "execution_count": 14
  },
  {
   "metadata": {
    "ExecuteTime": {
     "end_time": "2025-08-27T19:04:39.475135Z",
     "start_time": "2025-08-27T19:04:39.460247Z"
    }
   },
   "cell_type": "code",
   "source": [
    "correlation_matrix = X.corr()\n",
    "print(correlation_matrix)"
   ],
   "id": "df8d1cf9efe63dfe",
   "outputs": [
    {
     "name": "stdout",
     "output_type": "stream",
     "text": [
      "                               Temperature  Humidity     PM2.5      PM10  \\\n",
      "Temperature                       1.000000  0.466456  0.323840  0.425690   \n",
      "Humidity                          0.466456  1.000000  0.273366  0.359156   \n",
      "PM2.5                             0.323840  0.273366  1.000000  0.973005   \n",
      "PM10                              0.425690  0.359156  0.973005  1.000000   \n",
      "NO2                               0.591969  0.491977  0.333004  0.439916   \n",
      "SO2                               0.568082  0.459804  0.299582  0.401849   \n",
      "CO                                0.685258  0.567540  0.395179  0.518895   \n",
      "Proximity_to_Industrial_Areas    -0.589564 -0.479646 -0.315766 -0.425018   \n",
      "Population_Density                0.481692  0.411630  0.278957  0.365734   \n",
      "\n",
      "                                    NO2       SO2        CO  \\\n",
      "Temperature                    0.591969  0.568082  0.685258   \n",
      "Humidity                       0.491977  0.459804  0.567540   \n",
      "PM2.5                          0.333004  0.299582  0.395179   \n",
      "PM10                           0.439916  0.401849  0.518895   \n",
      "NO2                            1.000000  0.571839  0.710792   \n",
      "SO2                            0.571839  1.000000  0.679060   \n",
      "CO                             0.710792  0.679060  1.000000   \n",
      "Proximity_to_Industrial_Areas -0.607710 -0.570385 -0.707581   \n",
      "Population_Density             0.510938  0.475242  0.593389   \n",
      "\n",
      "                               Proximity_to_Industrial_Areas  \\\n",
      "Temperature                                        -0.589564   \n",
      "Humidity                                           -0.479646   \n",
      "PM2.5                                              -0.315766   \n",
      "PM10                                               -0.425018   \n",
      "NO2                                                -0.607710   \n",
      "SO2                                                -0.570385   \n",
      "CO                                                 -0.707581   \n",
      "Proximity_to_Industrial_Areas                       1.000000   \n",
      "Population_Density                                 -0.498058   \n",
      "\n",
      "                               Population_Density  \n",
      "Temperature                              0.481692  \n",
      "Humidity                                 0.411630  \n",
      "PM2.5                                    0.278957  \n",
      "PM10                                     0.365734  \n",
      "NO2                                      0.510938  \n",
      "SO2                                      0.475242  \n",
      "CO                                       0.593389  \n",
      "Proximity_to_Industrial_Areas           -0.498058  \n",
      "Population_Density                       1.000000  \n"
     ]
    }
   ],
   "execution_count": 15
  },
  {
   "metadata": {
    "ExecuteTime": {
     "end_time": "2025-08-27T19:04:39.580971Z",
     "start_time": "2025-08-27T19:04:39.577718Z"
    }
   },
   "cell_type": "code",
   "source": [
    "import matplotlib.pyplot as plt\n",
    "import seaborn as sns"
   ],
   "id": "4f7991c880c726f8",
   "outputs": [],
   "execution_count": 16
  },
  {
   "metadata": {
    "ExecuteTime": {
     "end_time": "2025-08-27T19:04:40.075196Z",
     "start_time": "2025-08-27T19:04:39.621853Z"
    }
   },
   "cell_type": "code",
   "source": [
    "plt.figure(figsize=(8,6))\n",
    "sns.heatmap(correlation_matrix, annot=True, linewidth=.7)\n",
    "plt.show()"
   ],
   "id": "6de7f13a2ec627e7",
   "outputs": [
    {
     "data": {
      "text/plain": [
       "<Figure size 800x600 with 2 Axes>"
      ],
      "image/png": "[encoded data removed]"
     },
     "metadata": {},
     "output_type": "display_data"
    }
   ],
   "execution_count": 17
  },
  {
   "metadata": {
    "ExecuteTime": {
     "end_time": "2025-08-27T19:04:40.103132Z",
     "start_time": "2025-08-27T19:04:40.097146Z"
    }
   },
   "cell_type": "code",
   "source": [
    "\"\"\"\n",
    "1) PM10 ile PM2.5 arasında 0.9'dan fazla ilişki olduğu için boyut indirgeme yaparken birini eleyebiliriz\n",
    "2) CO ve endüstriyel alana yakınlık arasında negatif bir correlasyon var\n",
    "3) ilişkiler: PM10-PM2.5, CO-ProximityIA(-0.71), CO-NO2(0.71), CO-Temperature(0.69), CO-SO2(0.68), Proximity-NO2(-0.61)\n",
    "\"\"\""
   ],
   "id": "a8dfafbeda79cab4",
   "outputs": [
    {
     "data": {
      "text/plain": [
       "\"\\n1) PM10 ile PM2.5 arasında 0.9'dan fazla ilişki olduğu için boyut indirgeme yaparken birini eleyebiliriz\\n2) CO ve endüstriyel alana yakınlık arasında negatif bir correlasyon var\\n3) ilişkiler: PM10-PM2.5, CO-ProximityIA(-0.71), CO-NO2(0.71), CO-Temperature(0.69), CO-SO2(0.68), Proximity-NO2(-0.61)\\n\""
      ]
     },
     "execution_count": 18,
     "metadata": {},
     "output_type": "execute_result"
    }
   ],
   "execution_count": 18
  },
  {
   "metadata": {
    "ExecuteTime": {
     "end_time": "2025-08-27T19:04:40.242161Z",
     "start_time": "2025-08-27T19:04:40.236332Z"
    }
   },
   "cell_type": "code",
   "source": [
    "\"\"\"\n",
    "Bütün özniteliklerin tek tek kutu grafiğini çizdirmeyeceğim, medyan ile ortalaması arasınd fark olanları ayrı çizdireceğim. Bunlar: PM2.5, PM10, ek olarak SO2'yi de çizdirmek istiyorum. bi tane de toplu çizdirip genel fikrim olsun istiyorum\n",
    "\"\"\""
   ],
   "id": "6c3b1b7642add5b5",
   "outputs": [
    {
     "data": {
      "text/plain": [
       "\"\\nBütün özniteliklerin tek tek kutu grafiğini çizdirmeyeceğim, medyan ile ortalaması arasınd fark olanları ayrı çizdireceğim. Bunlar: PM2.5, PM10, ek olarak SO2'yi de çizdirmek istiyorum. bi tane de toplu çizdirip genel fikrim olsun istiyorum\\n\""
      ]
     },
     "execution_count": 19,
     "metadata": {},
     "output_type": "execute_result"
    }
   ],
   "execution_count": 19
  },
  {
   "metadata": {
    "ExecuteTime": {
     "end_time": "2025-08-27T19:04:40.369613Z",
     "start_time": "2025-08-27T19:04:40.364147Z"
    }
   },
   "cell_type": "code",
   "source": [
    "\"\"\"\n",
    "Aykırı değerlerin kutu grafikleri ile tespiti.\n",
    "\"\"\""
   ],
   "id": "62eaf7a536b84182",
   "outputs": [
    {
     "data": {
      "text/plain": [
       "'\\nAykırı değerlerin kutu grafikleri ile tespiti.\\n'"
      ]
     },
     "execution_count": 20,
     "metadata": {},
     "output_type": "execute_result"
    }
   ],
   "execution_count": 20
  },
  {
   "metadata": {
    "ExecuteTime": {
     "end_time": "2025-08-27T19:04:40.656100Z",
     "start_time": "2025-08-27T19:04:40.493822Z"
    }
   },
   "cell_type": "code",
   "source": [
    "plt.figure(figsize=(7,4))\n",
    "sns.boxplot(x=df['PM2.5'])\n",
    "plt.title('PM2.5 Kutu Grafiği')\n",
    "plt.xlabel('DEĞERLER')\n",
    "plt.show()"
   ],
   "id": "e703856bb5d27893",
   "outputs": [
    {
     "data": {
      "text/plain": [
       "<Figure size 700x400 with 1 Axes>"
      ],
      "image/png": "[encoded data removed]"
     },
     "metadata": {},
     "output_type": "display_data"
    }
   ],
   "execution_count": 21
  },
  {
   "metadata": {
    "ExecuteTime": {
     "end_time": "2025-08-27T19:04:40.817680Z",
     "start_time": "2025-08-27T19:04:40.671595Z"
    }
   },
   "cell_type": "code",
   "source": [
    "plt.figure(figsize=(7,4))\n",
    "sns.boxplot(x=df['PM10'])\n",
    "plt.title('PM10 Kutu Grafiği')\n",
    "plt.xlabel('DEĞERLER')\n",
    "plt.show()"
   ],
   "id": "ee3add1a5e4cdbe3",
   "outputs": [
    {
     "data": {
      "text/plain": [
       "<Figure size 700x400 with 1 Axes>"
      ],
      "image/png": "[encoded data removed]"
     },
     "metadata": {},
     "output_type": "display_data"
    }
   ],
   "execution_count": 22
  },
  {
   "metadata": {
    "ExecuteTime": {
     "end_time": "2025-08-27T19:04:40.959190Z",
     "start_time": "2025-08-27T19:04:40.832074Z"
    }
   },
   "cell_type": "code",
   "source": [
    "plt.figure(figsize=(7,4))\n",
    "sns.boxplot(x=df['SO2'])\n",
    "plt.title('SO2 Kutu Grafiği')\n",
    "plt.xlabel('DEĞERLER')\n",
    "plt.show()"
   ],
   "id": "73d3ff15af2327e7",
   "outputs": [
    {
     "data": {
      "text/plain": [
       "<Figure size 700x400 with 1 Axes>"
      ],
      "image/png": "[encoded data removed]"
     },
     "metadata": {},
     "output_type": "display_data"
    }
   ],
   "execution_count": 23
  },
  {
   "metadata": {
    "ExecuteTime": {
     "end_time": "2025-08-27T19:04:41.021776Z",
     "start_time": "2025-08-27T19:04:41.012824Z"
    }
   },
   "cell_type": "code",
   "source": "df.info()",
   "id": "697a5859b5330c",
   "outputs": [
    {
     "name": "stdout",
     "output_type": "stream",
     "text": [
      "<class 'pandas.core.frame.DataFrame'>\n",
      "RangeIndex: 5000 entries, 0 to 4999\n",
      "Data columns (total 10 columns):\n",
      " #   Column                         Non-Null Count  Dtype  \n",
      "---  ------                         --------------  -----  \n",
      " 0   Temperature                    5000 non-null   float64\n",
      " 1   Humidity                       5000 non-null   float64\n",
      " 2   PM2.5                          5000 non-null   float64\n",
      " 3   PM10                           5000 non-null   float64\n",
      " 4   NO2                            5000 non-null   float64\n",
      " 5   SO2                            5000 non-null   float64\n",
      " 6   CO                             5000 non-null   float64\n",
      " 7   Proximity_to_Industrial_Areas  5000 non-null   float64\n",
      " 8   Population_Density             5000 non-null   int64  \n",
      " 9   Air Quality                    5000 non-null   object \n",
      "dtypes: float64(8), int64(1), object(1)\n",
      "memory usage: 390.8+ KB\n"
     ]
    }
   ],
   "execution_count": 24
  },
  {
   "metadata": {
    "ExecuteTime": {
     "end_time": "2025-08-27T19:04:41.547383Z",
     "start_time": "2025-08-27T19:04:41.128022Z"
    }
   },
   "cell_type": "code",
   "source": [
    "plt.figure(figsize=(10,10))\n",
    "sns.boxplot(data=df[[\"Temperature\", \"Humidity\", \"PM2.5\", \"PM10\" , \"NO2\", \"SO2\", \"CO\", \"Proximity_to_Industrial_Areas\"]])\n",
    "plt.title(\"tüm kutu grafikleri\")\n",
    "plt.xlabel(\"değerler\")\n",
    "plt.show()"
   ],
   "id": "13207ec744968f78",
   "outputs": [
    {
     "data": {
      "text/plain": [
       "<Figure size 1000x1000 with 1 Axes>"
      ],
      "image/png": "[encoded data removed]"
     },
     "metadata": {},
     "output_type": "display_data"
    }
   ],
   "execution_count": 25
  },
  {
   "metadata": {
    "ExecuteTime": {
     "end_time": "2025-08-27T19:04:41.582128Z",
     "start_time": "2025-08-27T19:04:41.573441Z"
    }
   },
   "cell_type": "code",
   "source": [
    "\"\"\"\n",
    "Hedef değişkenin dağılımı ve dengesizlik analizi\n",
    "\"\"\""
   ],
   "id": "73925ef7a48abfc3",
   "outputs": [
    {
     "data": {
      "text/plain": [
       "'\\nHedef değişkenin dağılımı ve dengesizlik analizi\\n'"
      ]
     },
     "execution_count": 26,
     "metadata": {},
     "output_type": "execute_result"
    }
   ],
   "execution_count": 26
  },
  {
   "metadata": {
    "ExecuteTime": {
     "end_time": "2025-08-27T19:04:41.684565Z",
     "start_time": "2025-08-27T19:04:41.678431Z"
    }
   },
   "cell_type": "code",
   "source": [
    "target_counts = y.value_counts()\n",
    "print(target_counts)\n",
    "print(target_counts / len(df) * 100)  # Yüzdelik dağılım\n"
   ],
   "id": "8f5b907614cd0d36",
   "outputs": [
    {
     "name": "stdout",
     "output_type": "stream",
     "text": [
      "Air Quality\n",
      "Good         2000\n",
      "Moderate     1500\n",
      "Poor         1000\n",
      "Hazardous     500\n",
      "Name: count, dtype: int64\n",
      "Air Quality\n",
      "Good         40.0\n",
      "Moderate     30.0\n",
      "Poor         20.0\n",
      "Hazardous    10.0\n",
      "Name: count, dtype: float64\n"
     ]
    }
   ],
   "execution_count": 27
  },
  {
   "metadata": {
    "ExecuteTime": {
     "end_time": "2025-08-27T19:04:41.975176Z",
     "start_time": "2025-08-27T19:04:41.807283Z"
    }
   },
   "cell_type": "code",
   "source": [
    "plt.figure(figsize=(7,4))\n",
    "sns.countplot(data=df, x='Air Quality')\n",
    "plt.title('Hedef Değişken Dağılımı')\n",
    "plt.show()"
   ],
   "id": "ccbc26e9ea08ecaa",
   "outputs": [
    {
     "data": {
      "text/plain": [
       "<Figure size 700x400 with 1 Axes>"
      ],
      "image/png": "[encoded data removed]"
     },
     "metadata": {},
     "output_type": "display_data"
    }
   ],
   "execution_count": 28
  },
  {
   "metadata": {
    "ExecuteTime": {
     "end_time": "2025-08-27T20:13:18.345306Z",
     "start_time": "2025-08-27T20:13:18.343198Z"
    }
   },
   "cell_type": "code",
   "source": "",
   "id": "33f4f16bbc30bedd",
   "outputs": [],
   "execution_count": null
  },
  {
   "metadata": {
    "ExecuteTime": {
     "end_time": "2025-08-27T19:04:42.992261Z",
     "start_time": "2025-08-27T19:04:42.987245Z"
    }
   },
   "cell_type": "code",
   "source": [
    "\"\"\"\n",
    "Genel Yorum:\n",
    "- Eksik verimiz yok.\n",
    "- Kategorisel veri olarak sadece air quality var. sayısallaşrtıracağım.\n",
    "- 2 öznitelikte aykırı değerler yüksek. düzeltilecek\n",
    "- 1 tane çok yüksek, 1 tane yüksek korelasyon ilişkisi var. öznitelik çıkarabilirim.\n",
    "- Hedef değişkende dengesizlik var. ekleme yapacağım\n",
    "- Min maks'larda olamayacak değerler var. Örneğin humidity 128. Herkes bilir 128 çok yüksek bir miktar. Bunları kesinlikle kaldıracağım\n",
    "\"\"\""
   ],
   "id": "2d9f128c336a7eca",
   "outputs": [
    {
     "data": {
      "text/plain": [
       "\"\\nGenel Yorum:\\n- Eksik verimiz yok.\\n- Kategorisel veri olarak sadece air quality var. sayısallaşrtıracağım.\\n- 2 öznitelikte aykırı değerler yüksek. düzeltilecek\\n- 1 tane çok yüksek, 1 tane yüksek korelasyon ilişkisi var. öznitelik çıkarabilirim.\\n- Hedef değişkende dengesizlik var. ekleme yapacağım\\n- Min maks'larda olamayacak değerler var. Örneğin humidity 128. Herkes bilir 128 çok yüksek bir miktar. Bunları kesinlikle kaldıracağım\\n\""
      ]
     },
     "execution_count": 30,
     "metadata": {},
     "output_type": "execute_result"
    }
   ],
   "execution_count": 30
  },
  {
   "metadata": {},
   "cell_type": "markdown",
   "source": "Özellik Mühendisliği ve Ön İşleme",
   "id": "5f558dfd075fe55e"
  },
  {
   "metadata": {
    "ExecuteTime": {
     "end_time": "2025-08-27T19:04:43.104326Z",
     "start_time": "2025-08-27T19:04:43.099387Z"
    }
   },
   "cell_type": "code",
   "source": [
    "\"\"\"\n",
    "kategorik olan hedef değişlenimizi pandasın dummies kütüphanesi ile sayısallaştıracağım\n",
    "\"\"\""
   ],
   "id": "e39ed964d5357d4c",
   "outputs": [
    {
     "data": {
      "text/plain": [
       "'\\nkategorik olan hedef değişlenimizi pandasın dummies kütüphanesi ile sayısallaştıracağım\\n'"
      ]
     },
     "execution_count": 31,
     "metadata": {},
     "output_type": "execute_result"
    }
   ],
   "execution_count": 31
  },
  {
   "metadata": {
    "ExecuteTime": {
     "end_time": "2025-08-27T19:04:43.220008Z",
     "start_time": "2025-08-27T19:04:43.201900Z"
    }
   },
   "cell_type": "code",
   "source": "df.head(10)",
   "id": "89b9d9446331cd5b",
   "outputs": [
    {
     "data": {
      "text/plain": [
       "   Temperature  Humidity  PM2.5  PM10   NO2   SO2    CO  \\\n",
       "0         29.8      59.1    5.2  17.9  18.9   9.2  1.72   \n",
       "1         28.3      75.6    2.3  12.2  30.8   9.7  1.64   \n",
       "2         23.1      74.7   26.7  33.8  24.4  12.6  1.63   \n",
       "3         27.1      39.1    6.1   6.3  13.5   5.3  1.15   \n",
       "4         26.5      70.7    6.9  16.0  21.9   5.6  1.01   \n",
       "5         39.4      96.6   14.6  35.5  42.9  17.9  1.82   \n",
       "6         41.7      82.5    1.7  15.8  31.1  12.7  1.80   \n",
       "7         31.0      59.6    5.0  16.8  24.2  13.6  1.38   \n",
       "8         29.4      93.8   10.3  22.7  45.1  11.8  2.03   \n",
       "9         33.2      80.5   11.1  24.4  32.0  15.3  1.69   \n",
       "\n",
       "   Proximity_to_Industrial_Areas  Population_Density Air Quality  \n",
       "0                            6.3                 319    Moderate  \n",
       "1                            6.0                 611    Moderate  \n",
       "2                            5.2                 619    Moderate  \n",
       "3                           11.1                 551        Good  \n",
       "4                           12.7                 303        Good  \n",
       "5                            3.1                 674   Hazardous  \n",
       "6                            4.6                 735        Poor  \n",
       "7                            6.3                 443    Moderate  \n",
       "8                            5.4                 486        Poor  \n",
       "9                            4.9                 535        Poor  "
      ],
      "text/html": [
       "<div>\n",
       "<style scoped>\n",
       "    .dataframe tbody tr th:only-of-type {\n",
       "        vertical-align: middle;\n",
       "    }\n",
       "\n",
       "    .dataframe tbody tr th {\n",
       "        vertical-align: top;\n",
       "    }\n",
       "\n",
       "    .dataframe thead th {\n",
       "        text-align: right;\n",
       "    }\n",
       "</style>\n",
       "<table border=\"1\" class=\"dataframe\">\n",
       "  <thead>\n",
       "    <tr style=\"text-align: right;\">\n",
       "      <th></th>\n",
       "      <th>Temperature</th>\n",
       "      <th>Humidity</th>\n",
       "      <th>PM2.5</th>\n",
       "      <th>PM10</th>\n",
       "      <th>NO2</th>\n",
       "      <th>SO2</th>\n",
       "      <th>CO</th>\n",
       "      <th>Proximity_to_Industrial_Areas</th>\n",
       "      <th>Population_Density</th>\n",
       "      <th>Air Quality</th>\n",
       "    </tr>\n",
       "  </thead>\n",
       "  <tbody>\n",
       "    <tr>\n",
       "      <th>0</th>\n",
       "      <td>29.8</td>\n",
       "      <td>59.1</td>\n",
       "      <td>5.2</td>\n",
       "      <td>17.9</td>\n",
       "      <td>18.9</td>\n",
       "      <td>9.2</td>\n",
       "      <td>1.72</td>\n",
       "      <td>6.3</td>\n",
       "      <td>319</td>\n",
       "      <td>Moderate</td>\n",
       "    </tr>\n",
       "    <tr>\n",
       "      <th>1</th>\n",
       "      <td>28.3</td>\n",
       "      <td>75.6</td>\n",
       "      <td>2.3</td>\n",
       "      <td>12.2</td>\n",
       "      <td>30.8</td>\n",
       "      <td>9.7</td>\n",
       "      <td>1.64</td>\n",
       "      <td>6.0</td>\n",
       "      <td>611</td>\n",
       "      <td>Moderate</td>\n",
       "    </tr>\n",
       "    <tr>\n",
       "      <th>2</th>\n",
       "      <td>23.1</td>\n",
       "      <td>74.7</td>\n",
       "      <td>26.7</td>\n",
       "      <td>33.8</td>\n",
       "      <td>24.4</td>\n",
       "      <td>12.6</td>\n",
       "      <td>1.63</td>\n",
       "      <td>5.2</td>\n",
       "      <td>619</td>\n",
       "      <td>Moderate</td>\n",
       "    </tr>\n",
       "    <tr>\n",
       "      <th>3</th>\n",
       "      <td>27.1</td>\n",
       "      <td>39.1</td>\n",
       "      <td>6.1</td>\n",
       "      <td>6.3</td>\n",
       "      <td>13.5</td>\n",
       "      <td>5.3</td>\n",
       "      <td>1.15</td>\n",
       "      <td>11.1</td>\n",
       "      <td>551</td>\n",
       "      <td>Good</td>\n",
       "    </tr>\n",
       "    <tr>\n",
       "      <th>4</th>\n",
       "      <td>26.5</td>\n",
       "      <td>70.7</td>\n",
       "      <td>6.9</td>\n",
       "      <td>16.0</td>\n",
       "      <td>21.9</td>\n",
       "      <td>5.6</td>\n",
       "      <td>1.01</td>\n",
       "      <td>12.7</td>\n",
       "      <td>303</td>\n",
       "      <td>Good</td>\n",
       "    </tr>\n",
       "    <tr>\n",
       "      <th>5</th>\n",
       "      <td>39.4</td>\n",
       "      <td>96.6</td>\n",
       "      <td>14.6</td>\n",
       "      <td>35.5</td>\n",
       "      <td>42.9</td>\n",
       "      <td>17.9</td>\n",
       "      <td>1.82</td>\n",
       "      <td>3.1</td>\n",
       "      <td>674</td>\n",
       "      <td>Hazardous</td>\n",
       "    </tr>\n",
       "    <tr>\n",
       "      <th>6</th>\n",
       "      <td>41.7</td>\n",
       "      <td>82.5</td>\n",
       "      <td>1.7</td>\n",
       "      <td>15.8</td>\n",
       "      <td>31.1</td>\n",
       "      <td>12.7</td>\n",
       "      <td>1.80</td>\n",
       "      <td>4.6</td>\n",
       "      <td>735</td>\n",
       "      <td>Poor</td>\n",
       "    </tr>\n",
       "    <tr>\n",
       "      <th>7</th>\n",
       "      <td>31.0</td>\n",
       "      <td>59.6</td>\n",
       "      <td>5.0</td>\n",
       "      <td>16.8</td>\n",
       "      <td>24.2</td>\n",
       "      <td>13.6</td>\n",
       "      <td>1.38</td>\n",
       "      <td>6.3</td>\n",
       "      <td>443</td>\n",
       "      <td>Moderate</td>\n",
       "    </tr>\n",
       "    <tr>\n",
       "      <th>8</th>\n",
       "      <td>29.4</td>\n",
       "      <td>93.8</td>\n",
       "      <td>10.3</td>\n",
       "      <td>22.7</td>\n",
       "      <td>45.1</td>\n",
       "      <td>11.8</td>\n",
       "      <td>2.03</td>\n",
       "      <td>5.4</td>\n",
       "      <td>486</td>\n",
       "      <td>Poor</td>\n",
       "    </tr>\n",
       "    <tr>\n",
       "      <th>9</th>\n",
       "      <td>33.2</td>\n",
       "      <td>80.5</td>\n",
       "      <td>11.1</td>\n",
       "      <td>24.4</td>\n",
       "      <td>32.0</td>\n",
       "      <td>15.3</td>\n",
       "      <td>1.69</td>\n",
       "      <td>4.9</td>\n",
       "      <td>535</td>\n",
       "      <td>Poor</td>\n",
       "    </tr>\n",
       "  </tbody>\n",
       "</table>\n",
       "</div>"
      ]
     },
     "execution_count": 32,
     "metadata": {},
     "output_type": "execute_result"
    }
   ],
   "execution_count": 32
  },
  {
   "metadata": {
    "ExecuteTime": {
     "end_time": "2025-08-27T19:04:43.535012Z",
     "start_time": "2025-08-27T19:04:43.518306Z"
    }
   },
   "cell_type": "code",
   "source": "df.head(10)",
   "id": "3da09dc775f90523",
   "outputs": [
    {
     "data": {
      "text/plain": [
       "   Temperature  Humidity  PM2.5  PM10   NO2   SO2    CO  \\\n",
       "0         29.8      59.1    5.2  17.9  18.9   9.2  1.72   \n",
       "1         28.3      75.6    2.3  12.2  30.8   9.7  1.64   \n",
       "2         23.1      74.7   26.7  33.8  24.4  12.6  1.63   \n",
       "3         27.1      39.1    6.1   6.3  13.5   5.3  1.15   \n",
       "4         26.5      70.7    6.9  16.0  21.9   5.6  1.01   \n",
       "5         39.4      96.6   14.6  35.5  42.9  17.9  1.82   \n",
       "6         41.7      82.5    1.7  15.8  31.1  12.7  1.80   \n",
       "7         31.0      59.6    5.0  16.8  24.2  13.6  1.38   \n",
       "8         29.4      93.8   10.3  22.7  45.1  11.8  2.03   \n",
       "9         33.2      80.5   11.1  24.4  32.0  15.3  1.69   \n",
       "\n",
       "   Proximity_to_Industrial_Areas  Population_Density Air Quality  \n",
       "0                            6.3                 319    Moderate  \n",
       "1                            6.0                 611    Moderate  \n",
       "2                            5.2                 619    Moderate  \n",
       "3                           11.1                 551        Good  \n",
       "4                           12.7                 303        Good  \n",
       "5                            3.1                 674   Hazardous  \n",
       "6                            4.6                 735        Poor  \n",
       "7                            6.3                 443    Moderate  \n",
       "8                            5.4                 486        Poor  \n",
       "9                            4.9                 535        Poor  "
      ],
      "text/html": [
       "<div>\n",
       "<style scoped>\n",
       "    .dataframe tbody tr th:only-of-type {\n",
       "        vertical-align: middle;\n",
       "    }\n",
       "\n",
       "    .dataframe tbody tr th {\n",
       "        vertical-align: top;\n",
       "    }\n",
       "\n",
       "    .dataframe thead th {\n",
       "        text-align: right;\n",
       "    }\n",
       "</style>\n",
       "<table border=\"1\" class=\"dataframe\">\n",
       "  <thead>\n",
       "    <tr style=\"text-align: right;\">\n",
       "      <th></th>\n",
       "      <th>Temperature</th>\n",
       "      <th>Humidity</th>\n",
       "      <th>PM2.5</th>\n",
       "      <th>PM10</th>\n",
       "      <th>NO2</th>\n",
       "      <th>SO2</th>\n",
       "      <th>CO</th>\n",
       "      <th>Proximity_to_Industrial_Areas</th>\n",
       "      <th>Population_Density</th>\n",
       "      <th>Air Quality</th>\n",
       "    </tr>\n",
       "  </thead>\n",
       "  <tbody>\n",
       "    <tr>\n",
       "      <th>0</th>\n",
       "      <td>29.8</td>\n",
       "      <td>59.1</td>\n",
       "      <td>5.2</td>\n",
       "      <td>17.9</td>\n",
       "      <td>18.9</td>\n",
       "      <td>9.2</td>\n",
       "      <td>1.72</td>\n",
       "      <td>6.3</td>\n",
       "      <td>319</td>\n",
       "      <td>Moderate</td>\n",
       "    </tr>\n",
       "    <tr>\n",
       "      <th>1</th>\n",
       "      <td>28.3</td>\n",
       "      <td>75.6</td>\n",
       "      <td>2.3</td>\n",
       "      <td>12.2</td>\n",
       "      <td>30.8</td>\n",
       "      <td>9.7</td>\n",
       "      <td>1.64</td>\n",
       "      <td>6.0</td>\n",
       "      <td>611</td>\n",
       "      <td>Moderate</td>\n",
       "    </tr>\n",
       "    <tr>\n",
       "      <th>2</th>\n",
       "      <td>23.1</td>\n",
       "      <td>74.7</td>\n",
       "      <td>26.7</td>\n",
       "      <td>33.8</td>\n",
       "      <td>24.4</td>\n",
       "      <td>12.6</td>\n",
       "      <td>1.63</td>\n",
       "      <td>5.2</td>\n",
       "      <td>619</td>\n",
       "      <td>Moderate</td>\n",
       "    </tr>\n",
       "    <tr>\n",
       "      <th>3</th>\n",
       "      <td>27.1</td>\n",
       "      <td>39.1</td>\n",
       "      <td>6.1</td>\n",
       "      <td>6.3</td>\n",
       "      <td>13.5</td>\n",
       "      <td>5.3</td>\n",
       "      <td>1.15</td>\n",
       "      <td>11.1</td>\n",
       "      <td>551</td>\n",
       "      <td>Good</td>\n",
       "    </tr>\n",
       "    <tr>\n",
       "      <th>4</th>\n",
       "      <td>26.5</td>\n",
       "      <td>70.7</td>\n",
       "      <td>6.9</td>\n",
       "      <td>16.0</td>\n",
       "      <td>21.9</td>\n",
       "      <td>5.6</td>\n",
       "      <td>1.01</td>\n",
       "      <td>12.7</td>\n",
       "      <td>303</td>\n",
       "      <td>Good</td>\n",
       "    </tr>\n",
       "    <tr>\n",
       "      <th>5</th>\n",
       "      <td>39.4</td>\n",
       "      <td>96.6</td>\n",
       "      <td>14.6</td>\n",
       "      <td>35.5</td>\n",
       "      <td>42.9</td>\n",
       "      <td>17.9</td>\n",
       "      <td>1.82</td>\n",
       "      <td>3.1</td>\n",
       "      <td>674</td>\n",
       "      <td>Hazardous</td>\n",
       "    </tr>\n",
       "    <tr>\n",
       "      <th>6</th>\n",
       "      <td>41.7</td>\n",
       "      <td>82.5</td>\n",
       "      <td>1.7</td>\n",
       "      <td>15.8</td>\n",
       "      <td>31.1</td>\n",
       "      <td>12.7</td>\n",
       "      <td>1.80</td>\n",
       "      <td>4.6</td>\n",
       "      <td>735</td>\n",
       "      <td>Poor</td>\n",
       "    </tr>\n",
       "    <tr>\n",
       "      <th>7</th>\n",
       "      <td>31.0</td>\n",
       "      <td>59.6</td>\n",
       "      <td>5.0</td>\n",
       "      <td>16.8</td>\n",
       "      <td>24.2</td>\n",
       "      <td>13.6</td>\n",
       "      <td>1.38</td>\n",
       "      <td>6.3</td>\n",
       "      <td>443</td>\n",
       "      <td>Moderate</td>\n",
       "    </tr>\n",
       "    <tr>\n",
       "      <th>8</th>\n",
       "      <td>29.4</td>\n",
       "      <td>93.8</td>\n",
       "      <td>10.3</td>\n",
       "      <td>22.7</td>\n",
       "      <td>45.1</td>\n",
       "      <td>11.8</td>\n",
       "      <td>2.03</td>\n",
       "      <td>5.4</td>\n",
       "      <td>486</td>\n",
       "      <td>Poor</td>\n",
       "    </tr>\n",
       "    <tr>\n",
       "      <th>9</th>\n",
       "      <td>33.2</td>\n",
       "      <td>80.5</td>\n",
       "      <td>11.1</td>\n",
       "      <td>24.4</td>\n",
       "      <td>32.0</td>\n",
       "      <td>15.3</td>\n",
       "      <td>1.69</td>\n",
       "      <td>4.9</td>\n",
       "      <td>535</td>\n",
       "      <td>Poor</td>\n",
       "    </tr>\n",
       "  </tbody>\n",
       "</table>\n",
       "</div>"
      ]
     },
     "execution_count": 33,
     "metadata": {},
     "output_type": "execute_result"
    }
   ],
   "execution_count": 33
  },
  {
   "metadata": {
    "ExecuteTime": {
     "end_time": "2025-08-27T19:04:43.945294Z",
     "start_time": "2025-08-27T19:04:43.939485Z"
    }
   },
   "cell_type": "code",
   "source": [
    "\"\"\"\n",
    "Alttaki ikisini de deneyeceğim hangisi daha iyi sonuç verecekse ona göre karar vereceğim. pd.Series ile ordinal encoding'i deneyeceğim.\n",
    "\"\"\""
   ],
   "id": "c8df0032ff7f1b24",
   "outputs": [
    {
     "data": {
      "text/plain": [
       "\"\\nAlttaki ikisini de deneyeceğim hangisi daha iyi sonuç verecekse ona göre karar vereceğim. pd.Series ile ordinal encoding'i deneyeceğim.\\n\""
      ]
     },
     "execution_count": 34,
     "metadata": {},
     "output_type": "execute_result"
    }
   ],
   "execution_count": 34
  },
  {
   "metadata": {
    "ExecuteTime": {
     "end_time": "2025-08-27T19:04:44.571450Z",
     "start_time": "2025-08-27T19:04:44.562825Z"
    }
   },
   "cell_type": "code",
   "source": [
    "from sklearn.preprocessing import OrdinalEncoder\n",
    "df[\"Air Quality\"].unique()"
   ],
   "id": "67831b7a3992d245",
   "outputs": [
    {
     "data": {
      "text/plain": [
       "array(['Moderate', 'Good', 'Hazardous', 'Poor'], dtype=object)"
      ]
     },
     "execution_count": 35,
     "metadata": {},
     "output_type": "execute_result"
    }
   ],
   "execution_count": 35
  },
  {
   "metadata": {
    "ExecuteTime": {
     "end_time": "2025-08-27T19:04:44.971699Z",
     "start_time": "2025-08-27T19:04:44.966382Z"
    }
   },
   "cell_type": "code",
   "source": "quality = [['Hazardous', 'Poor', 'Moderate', 'Good']]\n",
   "id": "7321542c38a811aa",
   "outputs": [],
   "execution_count": 36
  },
  {
   "metadata": {
    "ExecuteTime": {
     "end_time": "2025-08-27T19:04:45.078421Z",
     "start_time": "2025-08-27T19:04:45.071792Z"
    }
   },
   "cell_type": "code",
   "source": "print(y)",
   "id": "552584cfbeb356bc",
   "outputs": [
    {
     "name": "stdout",
     "output_type": "stream",
     "text": [
      "0        Moderate\n",
      "1        Moderate\n",
      "2        Moderate\n",
      "3            Good\n",
      "4            Good\n",
      "          ...    \n",
      "4995    Hazardous\n",
      "4996     Moderate\n",
      "4997     Moderate\n",
      "4998         Good\n",
      "4999     Moderate\n",
      "Name: Air Quality, Length: 5000, dtype: object\n"
     ]
    }
   ],
   "execution_count": 37
  },
  {
   "metadata": {
    "ExecuteTime": {
     "end_time": "2025-08-27T19:04:45.197001Z",
     "start_time": "2025-08-27T19:04:45.191587Z"
    }
   },
   "cell_type": "code",
   "source": "print(df[\"Air Quality\"])",
   "id": "a1976a42dda4a959",
   "outputs": [
    {
     "name": "stdout",
     "output_type": "stream",
     "text": [
      "0        Moderate\n",
      "1        Moderate\n",
      "2        Moderate\n",
      "3            Good\n",
      "4            Good\n",
      "          ...    \n",
      "4995    Hazardous\n",
      "4996     Moderate\n",
      "4997     Moderate\n",
      "4998         Good\n",
      "4999     Moderate\n",
      "Name: Air Quality, Length: 5000, dtype: object\n"
     ]
    }
   ],
   "execution_count": 38
  },
  {
   "metadata": {
    "ExecuteTime": {
     "end_time": "2025-08-27T19:04:45.340201Z",
     "start_time": "2025-08-27T19:04:45.331472Z"
    }
   },
   "cell_type": "code",
   "source": [
    "y_ordinal = OrdinalEncoder(categories=quality)\n",
    "y = y_ordinal.fit_transform(df[[\"Air Quality\"]])"
   ],
   "id": "58a174fcb8b1a996",
   "outputs": [],
   "execution_count": 39
  },
  {
   "metadata": {
    "ExecuteTime": {
     "end_time": "2025-08-27T19:04:45.367432Z",
     "start_time": "2025-08-27T19:04:45.360612Z"
    }
   },
   "cell_type": "code",
   "source": "print(y_ordinal)\n",
   "id": "8acd9ab01e153383",
   "outputs": [
    {
     "name": "stdout",
     "output_type": "stream",
     "text": [
      "OrdinalEncoder(categories=[['Hazardous', 'Poor', 'Moderate', 'Good']])\n"
     ]
    }
   ],
   "execution_count": 40
  },
  {
   "metadata": {
    "ExecuteTime": {
     "end_time": "2025-08-27T19:04:45.471562Z",
     "start_time": "2025-08-27T19:04:45.465919Z"
    }
   },
   "cell_type": "code",
   "source": "print(y)",
   "id": "b09bd8bf3acbfce6",
   "outputs": [
    {
     "name": "stdout",
     "output_type": "stream",
     "text": [
      "[[2.]\n",
      " [2.]\n",
      " [2.]\n",
      " ...\n",
      " [2.]\n",
      " [3.]\n",
      " [2.]]\n"
     ]
    }
   ],
   "execution_count": 41
  },
  {
   "metadata": {
    "ExecuteTime": {
     "end_time": "2025-08-27T19:04:45.613226Z",
     "start_time": "2025-08-27T19:04:45.596167Z"
    }
   },
   "cell_type": "code",
   "source": "df.head(3)",
   "id": "59da2f388966bdf2",
   "outputs": [
    {
     "data": {
      "text/plain": [
       "   Temperature  Humidity  PM2.5  PM10   NO2   SO2    CO  \\\n",
       "0         29.8      59.1    5.2  17.9  18.9   9.2  1.72   \n",
       "1         28.3      75.6    2.3  12.2  30.8   9.7  1.64   \n",
       "2         23.1      74.7   26.7  33.8  24.4  12.6  1.63   \n",
       "\n",
       "   Proximity_to_Industrial_Areas  Population_Density Air Quality  \n",
       "0                            6.3                 319    Moderate  \n",
       "1                            6.0                 611    Moderate  \n",
       "2                            5.2                 619    Moderate  "
      ],
      "text/html": [
       "<div>\n",
       "<style scoped>\n",
       "    .dataframe tbody tr th:only-of-type {\n",
       "        vertical-align: middle;\n",
       "    }\n",
       "\n",
       "    .dataframe tbody tr th {\n",
       "        vertical-align: top;\n",
       "    }\n",
       "\n",
       "    .dataframe thead th {\n",
       "        text-align: right;\n",
       "    }\n",
       "</style>\n",
       "<table border=\"1\" class=\"dataframe\">\n",
       "  <thead>\n",
       "    <tr style=\"text-align: right;\">\n",
       "      <th></th>\n",
       "      <th>Temperature</th>\n",
       "      <th>Humidity</th>\n",
       "      <th>PM2.5</th>\n",
       "      <th>PM10</th>\n",
       "      <th>NO2</th>\n",
       "      <th>SO2</th>\n",
       "      <th>CO</th>\n",
       "      <th>Proximity_to_Industrial_Areas</th>\n",
       "      <th>Population_Density</th>\n",
       "      <th>Air Quality</th>\n",
       "    </tr>\n",
       "  </thead>\n",
       "  <tbody>\n",
       "    <tr>\n",
       "      <th>0</th>\n",
       "      <td>29.8</td>\n",
       "      <td>59.1</td>\n",
       "      <td>5.2</td>\n",
       "      <td>17.9</td>\n",
       "      <td>18.9</td>\n",
       "      <td>9.2</td>\n",
       "      <td>1.72</td>\n",
       "      <td>6.3</td>\n",
       "      <td>319</td>\n",
       "      <td>Moderate</td>\n",
       "    </tr>\n",
       "    <tr>\n",
       "      <th>1</th>\n",
       "      <td>28.3</td>\n",
       "      <td>75.6</td>\n",
       "      <td>2.3</td>\n",
       "      <td>12.2</td>\n",
       "      <td>30.8</td>\n",
       "      <td>9.7</td>\n",
       "      <td>1.64</td>\n",
       "      <td>6.0</td>\n",
       "      <td>611</td>\n",
       "      <td>Moderate</td>\n",
       "    </tr>\n",
       "    <tr>\n",
       "      <th>2</th>\n",
       "      <td>23.1</td>\n",
       "      <td>74.7</td>\n",
       "      <td>26.7</td>\n",
       "      <td>33.8</td>\n",
       "      <td>24.4</td>\n",
       "      <td>12.6</td>\n",
       "      <td>1.63</td>\n",
       "      <td>5.2</td>\n",
       "      <td>619</td>\n",
       "      <td>Moderate</td>\n",
       "    </tr>\n",
       "  </tbody>\n",
       "</table>\n",
       "</div>"
      ]
     },
     "execution_count": 42,
     "metadata": {},
     "output_type": "execute_result"
    }
   ],
   "execution_count": 42
  },
  {
   "metadata": {
    "ExecuteTime": {
     "end_time": "2025-08-27T19:04:45.746564Z",
     "start_time": "2025-08-27T19:04:45.742935Z"
    }
   },
   "cell_type": "code",
   "source": "# df = pd.get_dummies(df, columns=['Air Quality'])",
   "id": "527b3f461dd9ecfb",
   "outputs": [],
   "execution_count": 43
  },
  {
   "metadata": {
    "ExecuteTime": {
     "end_time": "2025-08-27T19:04:45.912390Z",
     "start_time": "2025-08-27T19:04:45.907496Z"
    }
   },
   "cell_type": "code",
   "source": [
    "\"\"\"\n",
    "Sayısal verilerin standardizasyonu (StandardScaler)\n",
    "\"\"\""
   ],
   "id": "ee9f3923f474a3d3",
   "outputs": [
    {
     "data": {
      "text/plain": [
       "'\\nSayısal verilerin standardizasyonu (StandardScaler)\\n'"
      ]
     },
     "execution_count": 44,
     "metadata": {},
     "output_type": "execute_result"
    }
   ],
   "execution_count": 44
  },
  {
   "metadata": {
    "ExecuteTime": {
     "end_time": "2025-08-27T19:04:46.158881Z",
     "start_time": "2025-08-27T19:04:46.150067Z"
    }
   },
   "cell_type": "code",
   "source": [
    "\"\"\"\n",
    "CO ve denisty değerleri diğer verilerle uyumsuz olduğu için standart scaler uygulayacağım\n",
    "\"\"\""
   ],
   "id": "d375f571ce02c9db",
   "outputs": [
    {
     "data": {
      "text/plain": [
       "'\\nCO ve denisty değerleri diğer verilerle uyumsuz olduğu için standart scaler uygulayacağım\\n'"
      ]
     },
     "execution_count": 45,
     "metadata": {},
     "output_type": "execute_result"
    }
   ],
   "execution_count": 45
  },
  {
   "metadata": {
    "ExecuteTime": {
     "end_time": "2025-08-27T19:04:46.304237Z",
     "start_time": "2025-08-27T19:04:46.299129Z"
    }
   },
   "cell_type": "code",
   "source": [
    "from sklearn.preprocessing import StandardScaler\n",
    "\n",
    "scaler = StandardScaler()"
   ],
   "id": "1d61aff357a48dc2",
   "outputs": [],
   "execution_count": 46
  },
  {
   "metadata": {
    "ExecuteTime": {
     "end_time": "2025-08-27T19:04:46.326852Z",
     "start_time": "2025-08-27T19:04:46.317590Z"
    }
   },
   "cell_type": "code",
   "source": "X_scaled = scaler.fit_transform(X)\n",
   "id": "b8395574dfff0b35",
   "outputs": [],
   "execution_count": 47
  },
  {
   "metadata": {
    "ExecuteTime": {
     "end_time": "2025-08-27T19:04:46.361280Z",
     "start_time": "2025-08-27T19:04:46.344030Z"
    }
   },
   "cell_type": "code",
   "source": [
    "\n",
    "X_scaled_df = pd.DataFrame(X_scaled, columns=X.columns, index=X.index)\n",
    "X_scaled_df.head()"
   ],
   "id": "1b68062aa8aa0f2c",
   "outputs": [
    {
     "data": {
      "text/plain": [
       "   Temperature  Humidity     PM2.5      PM10       NO2       SO2        CO  \\\n",
       "0    -0.034080 -0.690715 -0.608589 -0.450455 -0.844581 -0.120721  0.402303   \n",
       "1    -0.257295  0.349507 -0.726706 -0.658892  0.493329 -0.046643  0.255775   \n",
       "2    -1.031106  0.292768  0.267100  0.130973 -0.226219  0.383011  0.237459   \n",
       "3    -0.435867 -1.951591 -0.571933 -0.874642 -1.451700 -0.698530 -0.641707   \n",
       "4    -0.525153  0.040593 -0.539349 -0.519934 -0.507293 -0.654083 -0.898130   \n",
       "\n",
       "   Proximity_to_Industrial_Areas  Population_Density  \n",
       "0                      -0.588658           -1.168163  \n",
       "1                      -0.671748            0.743598  \n",
       "2                      -0.893318            0.795975  \n",
       "3                       0.740767            0.350770  \n",
       "4                       1.183909           -1.272917  "
      ],
      "text/html": [
       "<div>\n",
       "<style scoped>\n",
       "    .dataframe tbody tr th:only-of-type {\n",
       "        vertical-align: middle;\n",
       "    }\n",
       "\n",
       "    .dataframe tbody tr th {\n",
       "        vertical-align: top;\n",
       "    }\n",
       "\n",
       "    .dataframe thead th {\n",
       "        text-align: right;\n",
       "    }\n",
       "</style>\n",
       "<table border=\"1\" class=\"dataframe\">\n",
       "  <thead>\n",
       "    <tr style=\"text-align: right;\">\n",
       "      <th></th>\n",
       "      <th>Temperature</th>\n",
       "      <th>Humidity</th>\n",
       "      <th>PM2.5</th>\n",
       "      <th>PM10</th>\n",
       "      <th>NO2</th>\n",
       "      <th>SO2</th>\n",
       "      <th>CO</th>\n",
       "      <th>Proximity_to_Industrial_Areas</th>\n",
       "      <th>Population_Density</th>\n",
       "    </tr>\n",
       "  </thead>\n",
       "  <tbody>\n",
       "    <tr>\n",
       "      <th>0</th>\n",
       "      <td>-0.034080</td>\n",
       "      <td>-0.690715</td>\n",
       "      <td>-0.608589</td>\n",
       "      <td>-0.450455</td>\n",
       "      <td>-0.844581</td>\n",
       "      <td>-0.120721</td>\n",
       "      <td>0.402303</td>\n",
       "      <td>-0.588658</td>\n",
       "      <td>-1.168163</td>\n",
       "    </tr>\n",
       "    <tr>\n",
       "      <th>1</th>\n",
       "      <td>-0.257295</td>\n",
       "      <td>0.349507</td>\n",
       "      <td>-0.726706</td>\n",
       "      <td>-0.658892</td>\n",
       "      <td>0.493329</td>\n",
       "      <td>-0.046643</td>\n",
       "      <td>0.255775</td>\n",
       "      <td>-0.671748</td>\n",
       "      <td>0.743598</td>\n",
       "    </tr>\n",
       "    <tr>\n",
       "      <th>2</th>\n",
       "      <td>-1.031106</td>\n",
       "      <td>0.292768</td>\n",
       "      <td>0.267100</td>\n",
       "      <td>0.130973</td>\n",
       "      <td>-0.226219</td>\n",
       "      <td>0.383011</td>\n",
       "      <td>0.237459</td>\n",
       "      <td>-0.893318</td>\n",
       "      <td>0.795975</td>\n",
       "    </tr>\n",
       "    <tr>\n",
       "      <th>3</th>\n",
       "      <td>-0.435867</td>\n",
       "      <td>-1.951591</td>\n",
       "      <td>-0.571933</td>\n",
       "      <td>-0.874642</td>\n",
       "      <td>-1.451700</td>\n",
       "      <td>-0.698530</td>\n",
       "      <td>-0.641707</td>\n",
       "      <td>0.740767</td>\n",
       "      <td>0.350770</td>\n",
       "    </tr>\n",
       "    <tr>\n",
       "      <th>4</th>\n",
       "      <td>-0.525153</td>\n",
       "      <td>0.040593</td>\n",
       "      <td>-0.539349</td>\n",
       "      <td>-0.519934</td>\n",
       "      <td>-0.507293</td>\n",
       "      <td>-0.654083</td>\n",
       "      <td>-0.898130</td>\n",
       "      <td>1.183909</td>\n",
       "      <td>-1.272917</td>\n",
       "    </tr>\n",
       "  </tbody>\n",
       "</table>\n",
       "</div>"
      ]
     },
     "execution_count": 48,
     "metadata": {},
     "output_type": "execute_result"
    }
   ],
   "execution_count": 48
  },
  {
   "metadata": {
    "ExecuteTime": {
     "end_time": "2025-08-27T19:04:46.861172Z",
     "start_time": "2025-08-27T19:04:46.488627Z"
    }
   },
   "cell_type": "code",
   "source": [
    "plt.figure(figsize=(8,6))\n",
    "sns.boxplot(X_scaled)\n",
    "plt.title(\"standardize sonrası boxplotlar\")\n",
    "plt.show()"
   ],
   "id": "5a64d70c830548d7",
   "outputs": [
    {
     "data": {
      "text/plain": [
       "<Figure size 800x600 with 1 Axes>"
      ],
      "image/png": "[encoded data removed]"
     },
     "metadata": {},
     "output_type": "display_data"
    }
   ],
   "execution_count": 49
  },
  {
   "metadata": {
    "ExecuteTime": {
     "end_time": "2025-08-27T19:04:46.947467Z",
     "start_time": "2025-08-27T19:04:46.941694Z"
    }
   },
   "cell_type": "code",
   "source": [
    "\n",
    "outlier_mask = (np.abs(X_scaled) > 6).any(axis=1)\n",
    "\"\"\"\n",
    "mask_2 = np.abs(X_scaled[:,2]) > 2.0\n",
    "mask_3 = np.abs(X_scaled[:,3]) > 2.2\n",
    "\"\"\""
   ],
   "id": "8d9018fd27bc49ba",
   "outputs": [
    {
     "data": {
      "text/plain": [
       "'\\nmask_2 = np.abs(X_scaled[:,2]) > 2.0\\nmask_3 = np.abs(X_scaled[:,3]) > 2.2\\n'"
      ]
     },
     "execution_count": 50,
     "metadata": {},
     "output_type": "execute_result"
    }
   ],
   "execution_count": 50
  },
  {
   "metadata": {
    "ExecuteTime": {
     "end_time": "2025-08-27T19:04:47.135574Z",
     "start_time": "2025-08-27T19:04:47.130602Z"
    }
   },
   "cell_type": "code",
   "source": [
    "\n",
    "combined_mask = ((np.abs(X_scaled) > 3).any(axis=1)) # | mask_2 | mask_3\n",
    "X_scaled = X_scaled[~combined_mask]\n",
    "y = y[~combined_mask]\n"
   ],
   "id": "bbe77a142ce13d7c",
   "outputs": [],
   "execution_count": 51
  },
  {
   "metadata": {
    "ExecuteTime": {
     "end_time": "2025-08-27T19:04:47.576015Z",
     "start_time": "2025-08-27T19:04:47.218189Z"
    }
   },
   "cell_type": "code",
   "source": [
    "plt.figure(figsize=(7,4))\n",
    "sns.boxplot(X_scaled)"
   ],
   "id": "5a6a616e61879b1a",
   "outputs": [
    {
     "data": {
      "text/plain": [
       "<Axes: >"
      ]
     },
     "execution_count": 52,
     "metadata": {},
     "output_type": "execute_result"
    },
    {
     "data": {
      "text/plain": [
       "<Figure size 700x400 with 1 Axes>"
      ],
      "image/png": "[encoded data removed]"
     },
     "metadata": {},
     "output_type": "display_data"
    }
   ],
   "execution_count": 52
  },
  {
   "metadata": {
    "ExecuteTime": {
     "end_time": "2025-08-27T19:04:47.627716Z",
     "start_time": "2025-08-27T19:04:47.622992Z"
    }
   },
   "cell_type": "code",
   "source": [
    "\"\"\"\n",
    "#varyansı düşük diye pm2.5'i çıkaracağım\n",
    "X_scaled = pd.DataFrame(X_scaled, columns=X.columns)\n",
    "X_scaled = X_scaled.drop(columns=[\"PM2.5\"])\n",
    "\"\"\""
   ],
   "id": "d08de980080e12cc",
   "outputs": [
    {
     "data": {
      "text/plain": [
       "'\\n#varyansı düşük diye pm2.5\\'i çıkaracağım\\nX_scaled = pd.DataFrame(X_scaled, columns=X.columns)\\nX_scaled = X_scaled.drop(columns=[\"PM2.5\"])\\n'"
      ]
     },
     "execution_count": 53,
     "metadata": {},
     "output_type": "execute_result"
    }
   ],
   "execution_count": 53
  },
  {
   "metadata": {
    "ExecuteTime": {
     "end_time": "2025-08-27T19:04:47.742180Z",
     "start_time": "2025-08-27T19:04:47.736033Z"
    }
   },
   "cell_type": "code",
   "source": [
    "X_scaled_df = pd.DataFrame(X_scaled, columns=X.columns)\n",
    "print(\"Kullanılan özellikler:\", X_scaled_df.columns.tolist())\n",
    "print(f\"Özellik sayısı: {X_scaled_df.shape[1]}\")\n"
   ],
   "id": "39859c1e62ab330e",
   "outputs": [
    {
     "name": "stdout",
     "output_type": "stream",
     "text": [
      "Kullanılan özellikler: ['Temperature', 'Humidity', 'PM2.5', 'PM10', 'NO2', 'SO2', 'CO', 'Proximity_to_Industrial_Areas', 'Population_Density']\n",
      "Özellik sayısı: 9\n"
     ]
    }
   ],
   "execution_count": 54
  },
  {
   "metadata": {
    "ExecuteTime": {
     "end_time": "2025-08-27T19:04:48.338083Z",
     "start_time": "2025-08-27T19:04:47.830224Z"
    }
   },
   "cell_type": "code",
   "source": [
    "# Şimdi veri üreterek hedef değişkeni dengeleyeceğim\n",
    "from imblearn.over_sampling import SMOTE\n",
    "smote = SMOTE(random_state=42)\n",
    "x_balanced, y_balanced = smote.fit_resample(X_scaled_df, y)"
   ],
   "id": "7ab9f7a9b517235",
   "outputs": [],
   "execution_count": 55
  },
  {
   "metadata": {
    "ExecuteTime": {
     "end_time": "2025-08-27T19:04:48.359532Z",
     "start_time": "2025-08-27T19:04:48.350610Z"
    }
   },
   "cell_type": "code",
   "source": [
    "print(\"Orijinal dağılım:\")\n",
    "print(pd.Series(y.ravel()).value_counts())\n",
    "print(\"\\nSMOTE sonrası:\")\n",
    "print(pd.Series(y_balanced).value_counts())"
   ],
   "id": "dfec0e3c5008b31b",
   "outputs": [
    {
     "name": "stdout",
     "output_type": "stream",
     "text": [
      "Orijinal dağılım:\n",
      "3.0    1984\n",
      "2.0    1485\n",
      "1.0     951\n",
      "0.0     321\n",
      "Name: count, dtype: int64\n",
      "\n",
      "SMOTE sonrası:\n",
      "2.0    1984\n",
      "3.0    1984\n",
      "0.0    1984\n",
      "1.0    1984\n",
      "Name: count, dtype: int64\n"
     ]
    }
   ],
   "execution_count": 56
  },
  {
   "metadata": {
    "ExecuteTime": {
     "end_time": "2025-08-27T19:04:48.418509Z",
     "start_time": "2025-08-27T19:04:48.412713Z"
    }
   },
   "cell_type": "code",
   "source": [
    "\"\"\"\n",
    "şunu fark ettim: verilerin y kategorilerinden iyiden kötüye doğru azalan sayısı arttı. yani en az good'tan en fazla hazardoustan gitti.\n",
    "\"\"\""
   ],
   "id": "106c043790a66cc7",
   "outputs": [
    {
     "data": {
      "text/plain": [
       "\"\\nşunu fark ettim: verilerin y kategorilerinden iyiden kötüye doğru azalan sayısı arttı. yani en az good'tan en fazla hazardoustan gitti.\\n\""
      ]
     },
     "execution_count": 57,
     "metadata": {},
     "output_type": "execute_result"
    }
   ],
   "execution_count": 57
  },
  {
   "metadata": {
    "ExecuteTime": {
     "end_time": "2025-08-27T19:04:48.480294Z",
     "start_time": "2025-08-27T19:04:48.472580Z"
    }
   },
   "cell_type": "code",
   "source": "print(x_balanced)",
   "id": "66dd78c35672d806",
   "outputs": [
    {
     "name": "stdout",
     "output_type": "stream",
     "text": [
      "      Temperature  Humidity     PM2.5      PM10       NO2       SO2        CO  \\\n",
      "0       -0.034080 -0.690715 -0.608589 -0.450455 -0.844581 -0.120721  0.402303   \n",
      "1       -0.257295  0.349507 -0.726706 -0.658892  0.493329 -0.046643  0.255775   \n",
      "2       -1.031106  0.292768  0.267100  0.130973 -0.226219  0.383011  0.237459   \n",
      "3       -0.435867 -1.951591 -0.571933 -0.874642 -1.451700 -0.698530 -0.641707   \n",
      "4       -0.525153  0.040593 -0.539349 -0.519934 -0.507293 -0.654083 -0.898130   \n",
      "...           ...       ...       ...       ...       ...       ...       ...   \n",
      "7931    -0.576199  1.208008 -0.647275 -0.807509 -0.927358  0.029738  0.210897   \n",
      "7932    -0.406710 -1.278147  0.656440  0.559071 -0.195280  0.061115 -0.196835   \n",
      "7933     0.162992 -0.214906 -0.561970 -0.510742  0.292931 -0.573799 -0.162027   \n",
      "7934    -0.135305 -0.045789 -0.109613  0.030830 -0.827133  0.085990 -0.413708   \n",
      "7935    -0.549620  0.069773 -0.172878 -0.141017 -0.111480 -0.280941  0.827333   \n",
      "\n",
      "      Proximity_to_Industrial_Areas  Population_Density  \n",
      "0                         -0.588658           -1.168163  \n",
      "1                         -0.671748            0.743598  \n",
      "2                         -0.893318            0.795975  \n",
      "3                          0.740767            0.350770  \n",
      "4                          1.183909           -1.272917  \n",
      "...                             ...                 ...  \n",
      "7931                      -0.131393           -0.185833  \n",
      "7932                       0.745705            0.917045  \n",
      "7933                       0.143424            0.433228  \n",
      "7934                       0.323953            0.625081  \n",
      "7935                      -0.624456           -0.392885  \n",
      "\n",
      "[7936 rows x 9 columns]\n"
     ]
    }
   ],
   "execution_count": 58
  },
  {
   "metadata": {
    "ExecuteTime": {
     "end_time": "2025-08-27T19:04:48.535211Z",
     "start_time": "2025-08-27T19:04:48.530878Z"
    }
   },
   "cell_type": "code",
   "source": "print(\"İlk 20 eleman:\", y_balanced[:20])\n",
   "id": "88d550de1d256989",
   "outputs": [
    {
     "name": "stdout",
     "output_type": "stream",
     "text": [
      "İlk 20 eleman: [2. 2. 2. 3. 3. 0. 1. 2. 1. 1. 3. 2. 3. 3. 3. 2. 3. 1. 2. 1.]\n"
     ]
    }
   ],
   "execution_count": 59
  },
  {
   "metadata": {
    "ExecuteTime": {
     "end_time": "2025-08-27T19:04:48.630973Z",
     "start_time": "2025-08-27T19:04:48.626428Z"
    }
   },
   "cell_type": "code",
   "source": [
    "\"\"\"\n",
    "from sklearn.manifold import TSNE\n",
    "\n",
    "# Sadece 2D görselleştirme için\n",
    "tsne = TSNE(n_components=2,\n",
    "           perplexity=30,    # Komşuluk boyutu\n",
    "           random_state=42,\n",
    "           max_iter=1000)\n",
    "\n",
    "X_tsne = tsne.fit_transform(x_balanced)\n",
    "\n",
    "# Görselleştir\n",
    "plt.figure(figsize=(7,4))\n",
    "scatter = plt.scatter(X_tsne[:, 0], X_tsne[:, 1], c=y_balanced, cmap='viridis')\n",
    "plt.colorbar(scatter)\n",
    "plt.title('t-SNE ile Görselleştirme')\n",
    "\n",
    "# Sınıflar kümelenmişse iyi ayrım var demektir\n",
    "\"\"\""
   ],
   "id": "5809825400c8a20f",
   "outputs": [
    {
     "data": {
      "text/plain": [
       "\"\\nfrom sklearn.manifold import TSNE\\n\\n# Sadece 2D görselleştirme için\\ntsne = TSNE(n_components=2,\\n           perplexity=30,    # Komşuluk boyutu\\n           random_state=42,\\n           max_iter=1000)\\n\\nX_tsne = tsne.fit_transform(x_balanced)\\n\\n# Görselleştir\\nplt.figure(figsize=(7,4))\\nscatter = plt.scatter(X_tsne[:, 0], X_tsne[:, 1], c=y_balanced, cmap='viridis')\\nplt.colorbar(scatter)\\nplt.title('t-SNE ile Görselleştirme')\\n\\n# Sınıflar kümelenmişse iyi ayrım var demektir\\n\""
      ]
     },
     "execution_count": 60,
     "metadata": {},
     "output_type": "execute_result"
    }
   ],
   "execution_count": 60
  },
  {
   "metadata": {
    "ExecuteTime": {
     "end_time": "2025-08-27T19:04:48.730316Z",
     "start_time": "2025-08-27T19:04:48.713532Z"
    }
   },
   "cell_type": "code",
   "source": [
    "from sklearn.decomposition import PCA\n",
    "\n",
    "pca = PCA(n_components=6)\n",
    "X_reduced = pca.fit_transform(x_balanced)"
   ],
   "id": "1755faa08092492",
   "outputs": [],
   "execution_count": 61
  },
  {
   "metadata": {
    "ExecuteTime": {
     "end_time": "2025-08-27T19:04:48.749100Z",
     "start_time": "2025-08-27T19:04:48.742671Z"
    }
   },
   "cell_type": "code",
   "source": [
    "#PCA'den sonra tekrar train test split yapcam\n",
    "X_train, X_test, y_train, y_test = train_test_split(X_reduced, y_balanced, test_size=0.2, random_state=42)"
   ],
   "id": "44920154e012666b",
   "outputs": [],
   "execution_count": 62
  },
  {
   "metadata": {
    "ExecuteTime": {
     "end_time": "2025-08-27T19:04:48.870573Z",
     "start_time": "2025-08-27T19:04:48.761479Z"
    }
   },
   "cell_type": "code",
   "source": [
    "explained = pca.explained_variance_ratio_\n",
    "plt.plot(np.cumsum(explained))\n",
    "plt.xlabel('Bileşen Sayısı')\n",
    "plt.ylabel('Kümülatif Açıklanan Varyans')\n",
    "plt.grid()\n",
    "plt.show()"
   ],
   "id": "27ea072c01b15525",
   "outputs": [
    {
     "data": {
      "text/plain": [
       "<Figure size 640x480 with 1 Axes>"
      ],
      "image/png": "[encoded data removed]"
     },
     "metadata": {},
     "output_type": "display_data"
    }
   ],
   "execution_count": 63
  },
  {
   "metadata": {
    "ExecuteTime": {
     "end_time": "2025-08-27T19:04:48.886063Z",
     "start_time": "2025-08-27T19:04:48.880296Z"
    }
   },
   "cell_type": "code",
   "source": "print(pca.explained_variance_ratio_)",
   "id": "d3aa37d26baed078",
   "outputs": [
    {
     "name": "stdout",
     "output_type": "stream",
     "text": [
      "[0.58982473 0.10929288 0.06680988 0.0639443  0.0547304  0.04678627]\n"
     ]
    }
   ],
   "execution_count": 64
  },
  {
   "metadata": {
    "ExecuteTime": {
     "end_time": "2025-08-27T19:04:49.391824Z",
     "start_time": "2025-08-27T19:04:48.972239Z"
    }
   },
   "cell_type": "code",
   "source": [
    "plt.scatter(X_reduced[:, 0], X_reduced[:, 1], c=y_balanced, cmap='viridis')  # y_balanced varsa etiket olarak\n",
    "plt.xlabel('PCA 1')\n",
    "plt.ylabel('PCA 2')\n",
    "plt.title('PCA ile Görselleştirme')\n",
    "plt.colorbar()\n",
    "plt.show()\n"
   ],
   "id": "9bb7adda7cba728c",
   "outputs": [
    {
     "data": {
      "text/plain": [
       "<Figure size 640x480 with 2 Axes>"
      ],
      "image/png": "[encoded data removed]"
     },
     "metadata": {},
     "output_type": "display_data"
    }
   ],
   "execution_count": 65
  },
  {
   "metadata": {
    "ExecuteTime": {
     "end_time": "2025-08-27T19:04:49.406129Z",
     "start_time": "2025-08-27T19:04:49.402359Z"
    }
   },
   "cell_type": "code",
   "source": [
    "from sklearn.tree import DecisionTreeClassifier\n",
    "from sklearn.ensemble import RandomForestClassifier\n",
    "from sklearn.linear_model import LogisticRegression\n",
    "from sklearn.metrics import accuracy_score\n"
   ],
   "id": "2d4e6d4d18b55f57",
   "outputs": [],
   "execution_count": 66
  },
  {
   "metadata": {},
   "cell_type": "markdown",
   "source": "LOGISTIC REGRESSION",
   "id": "9a52d746afe3d571"
  },
  {
   "metadata": {
    "ExecuteTime": {
     "end_time": "2025-08-27T19:04:49.514778Z",
     "start_time": "2025-08-27T19:04:49.453439Z"
    }
   },
   "cell_type": "code",
   "source": [
    "reg = LogisticRegression()\n",
    "model = reg.fit(X_train, y_train)"
   ],
   "id": "30953c218af38b2e",
   "outputs": [],
   "execution_count": 67
  },
  {
   "metadata": {
    "ExecuteTime": {
     "end_time": "2025-08-27T19:04:49.530359Z",
     "start_time": "2025-08-27T19:04:49.525078Z"
    }
   },
   "cell_type": "code",
   "source": [
    "y_pred_train = model.predict(X_train)\n",
    "y_pred_test = model.predict(X_test)"
   ],
   "id": "e35a72de3a0449fa",
   "outputs": [],
   "execution_count": 68
  },
  {
   "metadata": {
    "ExecuteTime": {
     "end_time": "2025-08-27T19:04:49.547583Z",
     "start_time": "2025-08-27T19:04:49.542054Z"
    }
   },
   "cell_type": "code",
   "source": [
    "train_accuracy = accuracy_score(y_train, y_pred_train)\n",
    "print(f\"Eğitim Verisi Doğruluğu (Training Accuracy): {train_accuracy:.4f}\")"
   ],
   "id": "65c1c161402975c0",
   "outputs": [
    {
     "name": "stdout",
     "output_type": "stream",
     "text": [
      "Eğitim Verisi Doğruluğu (Training Accuracy): 0.8941\n"
     ]
    }
   ],
   "execution_count": 69
  },
  {
   "metadata": {
    "ExecuteTime": {
     "end_time": "2025-08-27T19:04:49.635905Z",
     "start_time": "2025-08-27T19:04:49.630276Z"
    }
   },
   "cell_type": "code",
   "source": [
    "test_accuracy = accuracy_score(y_test, y_pred_test)\n",
    "print(f\"Test Verisi Doğruluğu (Testing Accuracy): {test_accuracy:.4f}\")"
   ],
   "id": "96b1d048ad53f9de",
   "outputs": [
    {
     "name": "stdout",
     "output_type": "stream",
     "text": [
      "Test Verisi Doğruluğu (Testing Accuracy): 0.9055\n"
     ]
    }
   ],
   "execution_count": 70
  },
  {
   "metadata": {
    "ExecuteTime": {
     "end_time": "2025-08-27T19:04:49.975520Z",
     "start_time": "2025-08-27T19:04:49.690335Z"
    }
   },
   "cell_type": "code",
   "source": [
    "enet_logistic = LogisticRegression(\n",
    "    penalty='elasticnet',\n",
    "    C=2.0,              # alpha'nın tersi (1/alpha)\n",
    "    l1_ratio=0.5,       # L1 ve L2 karışımı\n",
    "    solver='saga',      # ElasticNet için gerekli\n",
    "    max_iter=1000)\n",
    "\n",
    "enet_logistic.fit(X_train, y_train)\n",
    "y_pred_train_enet = enet_logistic.predict(X_train)\n",
    "y_pred_test_enet = enet_logistic.predict(X_test)"
   ],
   "id": "836d51640f8eebab",
   "outputs": [],
   "execution_count": 71
  },
  {
   "metadata": {
    "ExecuteTime": {
     "end_time": "2025-08-27T19:04:49.991643Z",
     "start_time": "2025-08-27T19:04:49.985723Z"
    }
   },
   "cell_type": "code",
   "source": [
    "train_accuracy_enet = accuracy_score(y_train, y_pred_train_enet)\n",
    "print(f\"Elastic Net Logistic - Eğitim Doğruluğu: {train_accuracy_enet:.4f}\")\n",
    "test_accuracy_enet = accuracy_score(y_test, y_pred_test_enet)\n",
    "print(f\"Elastic Net Logistic - Test Doğruluğu: {test_accuracy_enet:.4f}\")"
   ],
   "id": "7741d575fb78050f",
   "outputs": [
    {
     "name": "stdout",
     "output_type": "stream",
     "text": [
      "Elastic Net Logistic - Eğitim Doğruluğu: 0.8948\n",
      "Elastic Net Logistic - Test Doğruluğu: 0.9055\n"
     ]
    }
   ],
   "execution_count": 72
  },
  {
   "metadata": {
    "ExecuteTime": {
     "end_time": "2025-08-27T19:04:50.038547Z",
     "start_time": "2025-08-27T19:04:50.035347Z"
    }
   },
   "cell_type": "code",
   "source": "from sklearn.metrics import classification_report, confusion_matrix",
   "id": "9742dce7eaaf6ff0",
   "outputs": [],
   "execution_count": 73
  },
  {
   "metadata": {
    "ExecuteTime": {
     "end_time": "2025-08-27T19:04:50.101066Z",
     "start_time": "2025-08-27T19:04:50.082526Z"
    }
   },
   "cell_type": "code",
   "source": [
    "print(classification_report(y_test, y_pred_test))\n",
    "print(confusion_matrix(y_test, y_pred_test))"
   ],
   "id": "20796aa3559ff395",
   "outputs": [
    {
     "name": "stdout",
     "output_type": "stream",
     "text": [
      "              precision    recall  f1-score   support\n",
      "\n",
      "         0.0       0.87      0.87      0.87       348\n",
      "         1.0       0.83      0.82      0.83       422\n",
      "         2.0       0.92      0.93      0.92       390\n",
      "         3.0       0.99      0.99      0.99       428\n",
      "\n",
      "    accuracy                           0.91      1588\n",
      "   macro avg       0.90      0.90      0.90      1588\n",
      "weighted avg       0.91      0.91      0.91      1588\n",
      "\n",
      "[[303  45   0   0]\n",
      " [ 46 347  29   0]\n",
      " [  0  24 363   3]\n",
      " [  0   0   3 425]]\n"
     ]
    }
   ],
   "execution_count": 74
  },
  {
   "metadata": {
    "ExecuteTime": {
     "end_time": "2025-08-27T19:04:50.177313Z",
     "start_time": "2025-08-27T19:04:50.172711Z"
    }
   },
   "cell_type": "code",
   "source": [
    "print(\"\\n=== ELASTIC NET KARŞILAŞTIRMASI ===\")\n",
    "print(f\"Logistic Regression    - Test Accuracy: {test_accuracy:.4f}\")\n",
    "print(f\"Elastic Net Logistic   - Test Accuracy: {test_accuracy_enet:.4f}\")\n",
    "print(f\"Logistic Regression    - Training Accuracy: {train_accuracy:.4f}\")\n",
    "print(f\"Elastic Net Logistic   - Training Accuracy: {train_accuracy_enet:.4f}\")"
   ],
   "id": "926c7aa872cad2ec",
   "outputs": [
    {
     "name": "stdout",
     "output_type": "stream",
     "text": [
      "\n",
      "=== ELASTIC NET KARŞILAŞTIRMASI ===\n",
      "Logistic Regression    - Test Accuracy: 0.9055\n",
      "Elastic Net Logistic   - Test Accuracy: 0.9055\n",
      "Logistic Regression    - Training Accuracy: 0.8941\n",
      "Elastic Net Logistic   - Training Accuracy: 0.8948\n"
     ]
    }
   ],
   "execution_count": 75
  },
  {
   "metadata": {
    "ExecuteTime": {
     "end_time": "2025-08-27T19:04:50.239291Z",
     "start_time": "2025-08-27T19:04:50.234392Z"
    }
   },
   "cell_type": "code",
   "source": [
    "\"\"\"\n",
    "Overfitting yok.\n",
    "\"\"\""
   ],
   "id": "fb96b1ecbb841cfd",
   "outputs": [
    {
     "data": {
      "text/plain": [
       "'\\nOverfitting yok.\\n'"
      ]
     },
     "execution_count": 76,
     "metadata": {},
     "output_type": "execute_result"
    }
   ],
   "execution_count": 76
  },
  {
   "metadata": {},
   "cell_type": "markdown",
   "source": "DECISION TREE",
   "id": "30323f8fb4c1b7fc"
  },
  {
   "metadata": {
    "ExecuteTime": {
     "end_time": "2025-08-27T19:04:50.943784Z",
     "start_time": "2025-08-27T19:04:50.323682Z"
    }
   },
   "cell_type": "code",
   "source": [
    "for i in range(8,18) :\n",
    "    tree = DecisionTreeClassifier(random_state=42, max_depth= i)\n",
    "    model = tree.fit(X_train, y_train)\n",
    "\n",
    "    rf_y_pred_train = model.predict(X_train)\n",
    "    rf_y_pred_test = model.predict(X_test)\n",
    "\n",
    "    train_accuracy = accuracy_score(y_train, rf_y_pred_train)\n",
    "    #print(f\"Eğitim Verisi Doğruluğu (Training Accuracy): i:{i} {train_accuracy:.4f}\")\n",
    "    test_accuracy = accuracy_score(y_test, rf_y_pred_test)\n",
    "    #print(f\"Test Verisi Doğruluğu (Testing Accuracy): i:{i} {test_accuracy:.4f}\")\n",
    "    min = 2\n",
    "    if train_accuracy - test_accuracy < min:\n",
    "        min = train_accuracy - test_accuracy\n",
    "        print(f\"Eğitim Verisi Doğruluğu (Training Accuracy): i:{i} {train_accuracy:.4f}\")\n",
    "        print(f\"Test Verisi Doğruluğu (Testing Accuracy): i:{i} {test_accuracy:.4f}\")\n",
    "        print(f\"min: {min}, /n i {i}\")"
   ],
   "id": "72a9ec4b7d44c5a",
   "outputs": [
    {
     "name": "stdout",
     "output_type": "stream",
     "text": [
      "Eğitim Verisi Doğruluğu (Training Accuracy): i:8 0.9256\n",
      "Test Verisi Doğruluğu (Testing Accuracy): i:8 0.8992\n",
      "min: 0.026401540222113273, /n i 8\n",
      "Eğitim Verisi Doğruluğu (Training Accuracy): i:9 0.9386\n",
      "Test Verisi Doğruluğu (Testing Accuracy): i:9 0.9068\n",
      "min: 0.03176231947546104, /n i 9\n",
      "Eğitim Verisi Doğruluğu (Training Accuracy): i:10 0.9540\n",
      "Test Verisi Doğruluğu (Testing Accuracy): i:10 0.9144\n",
      "min: 0.0396435776197982, /n i 10\n",
      "Eğitim Verisi Doğruluğu (Training Accuracy): i:11 0.9671\n",
      "Test Verisi Doğruluğu (Testing Accuracy): i:11 0.9099\n",
      "min: 0.0571266223202056, /n i 11\n",
      "Eğitim Verisi Doğruluğu (Training Accuracy): i:12 0.9772\n",
      "Test Verisi Doğruluğu (Testing Accuracy): i:12 0.9074\n",
      "min: 0.0697274295718201, /n i 12\n",
      "Eğitim Verisi Doğruluğu (Training Accuracy): i:13 0.9836\n",
      "Test Verisi Doğruluğu (Testing Accuracy): i:13 0.9118\n",
      "min: 0.07177809627657972, /n i 13\n",
      "Eğitim Verisi Doğruluğu (Training Accuracy): i:14 0.9887\n",
      "Test Verisi Doğruluğu (Testing Accuracy): i:14 0.9169\n",
      "min: 0.07178127068324347, /n i 14\n",
      "Eğitim Verisi Doğruluğu (Training Accuracy): i:15 0.9920\n",
      "Test Verisi Doğruluğu (Testing Accuracy): i:15 0.9150\n",
      "min: 0.07697856799340996, /n i 15\n",
      "Eğitim Verisi Doğruluğu (Training Accuracy): i:16 0.9945\n",
      "Test Verisi Doğruluğu (Testing Accuracy): i:16 0.9150\n",
      "min: 0.07949904688439924, /n i 16\n",
      "Eğitim Verisi Doğruluğu (Training Accuracy): i:17 0.9965\n",
      "Test Verisi Doğruluğu (Testing Accuracy): i:17 0.9150\n",
      "min: 0.08154693598332807, /n i 17\n"
     ]
    }
   ],
   "execution_count": 77
  },
  {
   "metadata": {
    "ExecuteTime": {
     "end_time": "2025-08-27T19:04:51.008018Z",
     "start_time": "2025-08-27T19:04:50.953120Z"
    }
   },
   "cell_type": "code",
   "source": [
    "tree = DecisionTreeClassifier(random_state=42, max_depth= 12)\n",
    "model = tree.fit(X_train, y_train)"
   ],
   "id": "3fac81f1cb57b8a2",
   "outputs": [],
   "execution_count": 78
  },
  {
   "metadata": {
    "ExecuteTime": {
     "end_time": "2025-08-27T19:04:51.021377Z",
     "start_time": "2025-08-27T19:04:51.016753Z"
    }
   },
   "cell_type": "code",
   "source": [
    "y_pred_train = model.predict(X_train)\n",
    "y_pred_test = model.predict(X_test)"
   ],
   "id": "47313038918d817d",
   "outputs": [],
   "execution_count": 79
  },
  {
   "metadata": {
    "ExecuteTime": {
     "end_time": "2025-08-27T19:04:51.036998Z",
     "start_time": "2025-08-27T19:04:51.031281Z"
    }
   },
   "cell_type": "code",
   "source": [
    "train_accuracy = accuracy_score(y_train, y_pred_train)\n",
    "print(f\"Eğitim Verisi Doğruluğu (Training Accuracy): {train_accuracy:.4f}\")\n",
    "test_accuracy = accuracy_score(y_test, y_pred_test)\n",
    "print(f\"Test Verisi Doğruluğu (Testing Accuracy): {test_accuracy:.4f}\")"
   ],
   "id": "761a8d29433fd44f",
   "outputs": [
    {
     "name": "stdout",
     "output_type": "stream",
     "text": [
      "Eğitim Verisi Doğruluğu (Training Accuracy): 0.9772\n",
      "Test Verisi Doğruluğu (Testing Accuracy): 0.9074\n"
     ]
    }
   ],
   "execution_count": 80
  },
  {
   "metadata": {
    "ExecuteTime": {
     "end_time": "2025-08-27T19:04:51.092867Z",
     "start_time": "2025-08-27T19:04:51.077024Z"
    }
   },
   "cell_type": "code",
   "source": [
    "print(classification_report(y_test, y_pred_test))\n",
    "print(confusion_matrix(y_test, y_pred_test))"
   ],
   "id": "3a4189315b6df886",
   "outputs": [
    {
     "name": "stdout",
     "output_type": "stream",
     "text": [
      "              precision    recall  f1-score   support\n",
      "\n",
      "         0.0       0.88      0.89      0.88       348\n",
      "         1.0       0.84      0.84      0.84       422\n",
      "         2.0       0.91      0.92      0.91       390\n",
      "         3.0       0.99      0.98      0.99       428\n",
      "\n",
      "    accuracy                           0.91      1588\n",
      "   macro avg       0.91      0.91      0.91      1588\n",
      "weighted avg       0.91      0.91      0.91      1588\n",
      "\n",
      "[[309  39   0   0]\n",
      " [ 41 354  27   0]\n",
      " [  1  27 359   3]\n",
      " [  0   0   9 419]]\n"
     ]
    }
   ],
   "execution_count": 81
  },
  {
   "metadata": {
    "ExecuteTime": {
     "end_time": "2025-08-27T19:04:51.133501Z",
     "start_time": "2025-08-27T19:04:51.128670Z"
    }
   },
   "cell_type": "code",
   "source": [
    "\"\"\"\n",
    "train sonucundan anlaşılıyor ki maX depth sayısı vermediğimizde modelimiz ezberlemiş. o zaman dal kısaltalım. kısalttım ve max depth 12'nin local optima olduğunu düşünüyorum\n",
    "\"\"\""
   ],
   "id": "2a01c9528875eccf",
   "outputs": [
    {
     "data": {
      "text/plain": [
       "\"\\ntrain sonucundan anlaşılıyor ki maX depth sayısı vermediğimizde modelimiz ezberlemiş. o zaman dal kısaltalım. kısalttım ve max depth 12'nin local optima olduğunu düşünüyorum\\n\""
      ]
     },
     "execution_count": 82,
     "metadata": {},
     "output_type": "execute_result"
    }
   ],
   "execution_count": 82
  },
  {
   "metadata": {},
   "cell_type": "markdown",
   "source": "RANDOM FOREST",
   "id": "d8db2efbfc6b65ac"
  },
  {
   "metadata": {
    "ExecuteTime": {
     "end_time": "2025-08-27T19:04:57.880779Z",
     "start_time": "2025-08-27T19:04:51.212311Z"
    }
   },
   "cell_type": "code",
   "source": [
    "\n",
    "for i in range(6,12):\n",
    "    forest = RandomForestClassifier(random_state=42, max_depth=i)\n",
    "    model = forest.fit(X_train, y_train)\n",
    "    rf_y_pred_train = model.predict(X_train)\n",
    "    rf_y_pred_test = model.predict(X_test)\n",
    "    train_accuracy = accuracy_score(y_train, rf_y_pred_train)\n",
    "    #print(f\"Eğitim Verisi Doğruluğu (Training Accuracy): i:{i} {train_accuracy:.4f}\")\n",
    "    test_accuracy = accuracy_score(y_test, rf_y_pred_test)\n",
    "    #print(f\"Test Verisi Doğruluğu (Testing Accuracy): i:{i} {test_accuracy:.4f}\")\n",
    "    min = 2\n",
    "    if train_accuracy - test_accuracy < min:\n",
    "        min = train_accuracy - test_accuracy\n",
    "        print(f\"Eğitim Verisi Doğruluğu (Training Accuracy): i:{i} {train_accuracy:.4f}\")\n",
    "        print(f\"Test Verisi Doğruluğu (Testing Accuracy): i:{i} {test_accuracy:.4f}\")\n",
    "        print(f\"min: {min}, /n i {i}\")\n",
    "\n"
   ],
   "id": "532b04b687f5a219",
   "outputs": [
    {
     "name": "stdout",
     "output_type": "stream",
     "text": [
      "Eğitim Verisi Doğruluğu (Training Accuracy): i:6 0.9047\n",
      "Test Verisi Doğruluğu (Testing Accuracy): i:6 0.9081\n",
      "min: -0.003366061466036241, /n i 6\n",
      "Eğitim Verisi Doğruluğu (Training Accuracy): i:7 0.9181\n",
      "Test Verisi Doğruluğu (Testing Accuracy): i:7 0.9118\n",
      "min: 0.006245645110858233, /n i 7\n",
      "Eğitim Verisi Doğruluğu (Training Accuracy): i:8 0.9302\n",
      "Test Verisi Doğruluğu (Testing Accuracy): i:8 0.9169\n",
      "min: 0.01333766639842937, /n i 8\n",
      "Eğitim Verisi Doğruluğu (Training Accuracy): i:9 0.9439\n",
      "Test Verisi Doğruluğu (Testing Accuracy): i:9 0.9200\n",
      "min: 0.023894155758611757, /n i 9\n",
      "Eğitim Verisi Doğruluğu (Training Accuracy): i:10 0.9592\n",
      "Test Verisi Doğruluğu (Testing Accuracy): i:10 0.9301\n",
      "min: 0.029098992284604663, /n i 10\n",
      "Eğitim Verisi Doğruluğu (Training Accuracy): i:11 0.9701\n",
      "Test Verisi Doğruluğu (Testing Accuracy): i:11 0.9326\n",
      "min: 0.037449665814338395, /n i 11\n"
     ]
    }
   ],
   "execution_count": 83
  },
  {
   "metadata": {
    "ExecuteTime": {
     "end_time": "2025-08-27T19:04:57.925937Z",
     "start_time": "2025-08-27T19:04:57.921779Z"
    }
   },
   "cell_type": "code",
   "source": [
    "\"\"\"\n",
    "Burada max depthe karar vermek için for döngüsüne aldım 11 mantıklı geldi.\n",
    "\"\"\""
   ],
   "id": "ecdd91275a64413",
   "outputs": [
    {
     "data": {
      "text/plain": [
       "'\\nBurada max depthe karar vermek için for döngüsüne aldım 11 mantıklı geldi.\\n'"
      ]
     },
     "execution_count": 84,
     "metadata": {},
     "output_type": "execute_result"
    }
   ],
   "execution_count": 84
  },
  {
   "metadata": {
    "ExecuteTime": {
     "end_time": "2025-08-27T19:04:59.273302Z",
     "start_time": "2025-08-27T19:04:57.998514Z"
    }
   },
   "cell_type": "code",
   "source": [
    "forest = RandomForestClassifier(random_state=42, max_depth=11)\n",
    "model = forest.fit(X_train, y_train)\n",
    "rf_y_pred_train = model.predict(X_train)\n",
    "rf_y_pred_test = model.predict(X_test)"
   ],
   "id": "a65f28ca1c6ff60a",
   "outputs": [],
   "execution_count": 85
  },
  {
   "metadata": {
    "ExecuteTime": {
     "end_time": "2025-08-27T19:04:59.316995Z",
     "start_time": "2025-08-27T19:04:59.311870Z"
    }
   },
   "cell_type": "code",
   "source": [
    "train_accuracy = accuracy_score(y_train, rf_y_pred_train)\n",
    "print(f\"Eğitim Verisi Doğruluğu (Training Accuracy): {train_accuracy:.4f}\")\n",
    "test_accuracy = accuracy_score(y_test, rf_y_pred_test)\n",
    "print(f\"Test Verisi Doğruluğu (Testing Accuracy): {test_accuracy:.4f}\")"
   ],
   "id": "88a3f5bd51af13d8",
   "outputs": [
    {
     "name": "stdout",
     "output_type": "stream",
     "text": [
      "Eğitim Verisi Doğruluğu (Training Accuracy): 0.9701\n",
      "Test Verisi Doğruluğu (Testing Accuracy): 0.9326\n"
     ]
    }
   ],
   "execution_count": 86
  },
  {
   "metadata": {
    "ExecuteTime": {
     "end_time": "2025-08-27T19:04:59.371085Z",
     "start_time": "2025-08-27T19:04:59.356973Z"
    }
   },
   "cell_type": "code",
   "source": [
    "print(classification_report(y_test, y_pred_test))\n",
    "print(confusion_matrix(y_test, y_pred_test))"
   ],
   "id": "691ac2fe1e570893",
   "outputs": [
    {
     "name": "stdout",
     "output_type": "stream",
     "text": [
      "              precision    recall  f1-score   support\n",
      "\n",
      "         0.0       0.88      0.89      0.88       348\n",
      "         1.0       0.84      0.84      0.84       422\n",
      "         2.0       0.91      0.92      0.91       390\n",
      "         3.0       0.99      0.98      0.99       428\n",
      "\n",
      "    accuracy                           0.91      1588\n",
      "   macro avg       0.91      0.91      0.91      1588\n",
      "weighted avg       0.91      0.91      0.91      1588\n",
      "\n",
      "[[309  39   0   0]\n",
      " [ 41 354  27   0]\n",
      " [  1  27 359   3]\n",
      " [  0   0   9 419]]\n"
     ]
    }
   ],
   "execution_count": 87
  },
  {
   "metadata": {},
   "cell_type": "markdown",
   "source": "SVM",
   "id": "a323345a34f68583"
  },
  {
   "metadata": {
    "ExecuteTime": {
     "end_time": "2025-08-27T19:04:59.442355Z",
     "start_time": "2025-08-27T19:04:59.437667Z"
    }
   },
   "cell_type": "code",
   "source": [
    "\"\"\"\n",
    "bizim problemimiz classification olduğu için SVR yapmadım.\n",
    "\"\"\""
   ],
   "id": "91e4bf59ed285fef",
   "outputs": [
    {
     "data": {
      "text/plain": [
       "'\\nbizim problemimiz classification olduğu için SVR yapmadım.\\n'"
      ]
     },
     "execution_count": 88,
     "metadata": {},
     "output_type": "execute_result"
    }
   ],
   "execution_count": 88
  },
  {
   "metadata": {
    "ExecuteTime": {
     "end_time": "2025-08-27T19:04:59.526846Z",
     "start_time": "2025-08-27T19:04:59.523956Z"
    }
   },
   "cell_type": "code",
   "source": "from sklearn.svm import SVC",
   "id": "d855fd171c20f6b6",
   "outputs": [],
   "execution_count": 89
  },
  {
   "metadata": {
    "ExecuteTime": {
     "end_time": "2025-08-27T19:05:00.972566Z",
     "start_time": "2025-08-27T19:04:59.541233Z"
    }
   },
   "cell_type": "code",
   "source": [
    "#RBF KERNEL\n",
    "svm = SVC(random_state=42, kernel='rbf', C=1.0, gamma='scale')\n",
    "model = svm.fit(X_train, y_train)\n",
    "svm_rbf_pred_train = model.predict(X_train)\n",
    "svm_rbf_pred_test = model.predict(X_test)"
   ],
   "id": "f2737c666da4dd75",
   "outputs": [],
   "execution_count": 90
  },
  {
   "metadata": {
    "ExecuteTime": {
     "end_time": "2025-08-27T19:05:01.022131Z",
     "start_time": "2025-08-27T19:05:01.016419Z"
    }
   },
   "cell_type": "code",
   "source": [
    "print(\"SVM RBF Train Accuracy:\", accuracy_score(y_train, svm_rbf_pred_train))\n",
    "print(\"SVM RBF Test Accuracy:\", accuracy_score(y_test, svm_rbf_pred_test))"
   ],
   "id": "69f4c3a8dbdf6df6",
   "outputs": [
    {
     "name": "stdout",
     "output_type": "stream",
     "text": [
      "SVM RBF Train Accuracy: 0.915406427221172\n",
      "SVM RBF Test Accuracy: 0.9269521410579346\n"
     ]
    }
   ],
   "execution_count": 91
  },
  {
   "metadata": {
    "ExecuteTime": {
     "end_time": "2025-08-27T19:05:01.114793Z",
     "start_time": "2025-08-27T19:05:01.095285Z"
    }
   },
   "cell_type": "code",
   "source": [
    "print(classification_report(y_test, svm_rbf_pred_test))\n",
    "print(confusion_matrix(y_test, svm_rbf_pred_test))"
   ],
   "id": "d3cf7bfaca3872fd",
   "outputs": [
    {
     "name": "stdout",
     "output_type": "stream",
     "text": [
      "              precision    recall  f1-score   support\n",
      "\n",
      "         0.0       0.90      0.90      0.90       348\n",
      "         1.0       0.89      0.85      0.87       422\n",
      "         2.0       0.92      0.96      0.94       390\n",
      "         3.0       0.99      1.00      0.99       428\n",
      "\n",
      "    accuracy                           0.93      1588\n",
      "   macro avg       0.92      0.93      0.93      1588\n",
      "weighted avg       0.93      0.93      0.93      1588\n",
      "\n",
      "[[314  34   0   0]\n",
      " [ 36 357  29   0]\n",
      " [  0  12 375   3]\n",
      " [  0   0   2 426]]\n"
     ]
    }
   ],
   "execution_count": 92
  },
  {
   "metadata": {
    "ExecuteTime": {
     "end_time": "2025-08-27T19:05:01.642222Z",
     "start_time": "2025-08-27T19:05:01.203377Z"
    }
   },
   "cell_type": "code",
   "source": [
    "#LINEAR KERNEL\n",
    "svm_linear = SVC(random_state=42, kernel='linear', C=1.0)\n",
    "model_linear = svm_linear.fit(X_train, y_train)\n",
    "svm_linear_pred_train = model_linear.predict(X_train)\n",
    "svm_linear_pred_test = model_linear.predict(X_test)"
   ],
   "id": "7979f41e2c19fa8c",
   "outputs": [],
   "execution_count": 93
  },
  {
   "metadata": {
    "ExecuteTime": {
     "end_time": "2025-08-27T19:05:01.659410Z",
     "start_time": "2025-08-27T19:05:01.652718Z"
    }
   },
   "cell_type": "code",
   "source": [
    "print(\"SVM Linear Train Accuracy:\", accuracy_score(y_train, svm_linear_pred_train))\n",
    "print(\"SVM Linear Test Accuracy:\", accuracy_score(y_test, svm_linear_pred_test))"
   ],
   "id": "7d5b889aa98a906d",
   "outputs": [
    {
     "name": "stdout",
     "output_type": "stream",
     "text": [
      "SVM Linear Train Accuracy: 0.8954001260239446\n",
      "SVM Linear Test Accuracy: 0.9055415617128464\n"
     ]
    }
   ],
   "execution_count": 94
  },
  {
   "metadata": {
    "ExecuteTime": {
     "end_time": "2025-08-27T19:05:01.718926Z",
     "start_time": "2025-08-27T19:05:01.704076Z"
    }
   },
   "cell_type": "code",
   "source": [
    "print(classification_report(y_test, svm_linear_pred_test))\n",
    "print(confusion_matrix(y_test, svm_linear_pred_test))"
   ],
   "id": "9ce6322a1d089aa7",
   "outputs": [
    {
     "name": "stdout",
     "output_type": "stream",
     "text": [
      "              precision    recall  f1-score   support\n",
      "\n",
      "         0.0       0.87      0.87      0.87       348\n",
      "         1.0       0.84      0.82      0.83       422\n",
      "         2.0       0.91      0.94      0.93       390\n",
      "         3.0       0.99      0.99      0.99       428\n",
      "\n",
      "    accuracy                           0.91      1588\n",
      "   macro avg       0.90      0.90      0.90      1588\n",
      "weighted avg       0.91      0.91      0.91      1588\n",
      "\n",
      "[[304  44   0   0]\n",
      " [ 47 345  30   0]\n",
      " [  0  22 365   3]\n",
      " [  0   0   4 424]]\n"
     ]
    }
   ],
   "execution_count": 95
  },
  {
   "metadata": {
    "ExecuteTime": {
     "end_time": "2025-08-27T19:05:02.346611Z",
     "start_time": "2025-08-27T19:05:01.793211Z"
    }
   },
   "cell_type": "code",
   "source": [
    "#POLY KERNEL\n",
    "svm_poly = SVC(random_state=42, kernel='poly', degree=3, C=1.0)\n",
    "model_poly = svm_poly.fit(X_train, y_train)\n",
    "svm_poly_pred_train = model_poly.predict(X_train)\n",
    "svm_poly_pred_test = model_poly.predict(X_test)"
   ],
   "id": "f4bd33a40463b30f",
   "outputs": [],
   "execution_count": 96
  },
  {
   "metadata": {
    "ExecuteTime": {
     "end_time": "2025-08-27T19:05:02.371466Z",
     "start_time": "2025-08-27T19:05:02.357228Z"
    }
   },
   "cell_type": "code",
   "source": [
    "print(\"SVM Poly Train Accuracy:\", accuracy_score(y_train, svm_poly_pred_train))\n",
    "print(\"SVM Poly Test Accuracy:\", accuracy_score(y_test, svm_poly_pred_test))\n",
    "print(classification_report(y_test, svm_poly_pred_test))\n",
    "print(confusion_matrix(y_test, svm_poly_pred_test))"
   ],
   "id": "9e6da3919b1bce68",
   "outputs": [
    {
     "name": "stdout",
     "output_type": "stream",
     "text": [
      "SVM Poly Train Accuracy: 0.9029615626969124\n",
      "SVM Poly Test Accuracy: 0.9124685138539043\n",
      "              precision    recall  f1-score   support\n",
      "\n",
      "         0.0       0.91      0.86      0.88       348\n",
      "         1.0       0.86      0.82      0.84       422\n",
      "         2.0       0.88      0.97      0.92       390\n",
      "         3.0       1.00      1.00      1.00       428\n",
      "\n",
      "    accuracy                           0.91      1588\n",
      "   macro avg       0.91      0.91      0.91      1588\n",
      "weighted avg       0.91      0.91      0.91      1588\n",
      "\n",
      "[[299  48   1   0]\n",
      " [ 29 345  48   0]\n",
      " [  0   9 379   2]\n",
      " [  0   0   2 426]]\n"
     ]
    }
   ],
   "execution_count": 97
  },
  {
   "metadata": {
    "ExecuteTime": {
     "end_time": "2025-08-27T19:05:02.416807Z",
     "start_time": "2025-08-27T19:05:02.406276Z"
    }
   },
   "cell_type": "code",
   "source": [
    "# Modelleri karşılaştır\n",
    "models = {\n",
    "    'SVM RBF': (svm_rbf_pred_train, svm_rbf_pred_test),\n",
    "    'SVM Linear': (svm_linear_pred_train, svm_linear_pred_test),\n",
    "    'SVM Poly': (svm_poly_pred_train, svm_poly_pred_test)\n",
    "}\n",
    "\n",
    "print(\"Model Performans Karşılaştırması:\")\n",
    "print(\"-\" * 50)\n",
    "for name, (train_pred, test_pred) in models.items():\n",
    "    train_acc = accuracy_score(y_train, train_pred)\n",
    "    test_acc = accuracy_score(y_test, test_pred)\n",
    "    print(f\"{name:15} | Train: {train_acc:.4f} | Test: {test_acc:.4f}\")"
   ],
   "id": "7d10f3e54c0f27b5",
   "outputs": [
    {
     "name": "stdout",
     "output_type": "stream",
     "text": [
      "Model Performans Karşılaştırması:\n",
      "--------------------------------------------------\n",
      "SVM RBF         | Train: 0.9154 | Test: 0.9270\n",
      "SVM Linear      | Train: 0.8954 | Test: 0.9055\n",
      "SVM Poly        | Train: 0.9030 | Test: 0.9125\n"
     ]
    }
   ],
   "execution_count": 98
  },
  {
   "metadata": {},
   "cell_type": "markdown",
   "source": "KNN",
   "id": "8934bd4b3b9a2e8b"
  },
  {
   "metadata": {
    "ExecuteTime": {
     "end_time": "2025-08-27T19:05:02.485169Z",
     "start_time": "2025-08-27T19:05:02.482188Z"
    }
   },
   "cell_type": "code",
   "source": "from sklearn.neighbors import KNeighborsClassifier",
   "id": "b724cfd220abd3f5",
   "outputs": [],
   "execution_count": 99
  },
  {
   "metadata": {
    "ExecuteTime": {
     "end_time": "2025-08-27T19:05:02.617620Z",
     "start_time": "2025-08-27T19:05:02.504899Z"
    }
   },
   "cell_type": "code",
   "source": [
    "classifier = KNeighborsClassifier(n_neighbors=5, algorithm='auto')\n",
    "classifier.fit(X_train, y_train)\n",
    "knn_y_pred_train = classifier.predict(X_train)\n",
    "knn_y_pred_test = classifier.predict(X_test)"
   ],
   "id": "1dac702bc645b88b",
   "outputs": [],
   "execution_count": 100
  },
  {
   "metadata": {
    "ExecuteTime": {
     "end_time": "2025-08-27T19:05:02.657118Z",
     "start_time": "2025-08-27T19:05:02.640745Z"
    }
   },
   "cell_type": "code",
   "source": [
    "print(\"Train Accuracy:\", accuracy_score(y_train, knn_y_pred_train))\n",
    "print(\"Test Accuracy:\", accuracy_score(y_test, knn_y_pred_test))\n",
    "print(classification_report(y_test, knn_y_pred_test))\n",
    "print(confusion_matrix(y_test, knn_y_pred_test))"
   ],
   "id": "fbd89620ac1818c3",
   "outputs": [
    {
     "name": "stdout",
     "output_type": "stream",
     "text": [
      "Train Accuracy: 0.962822936357908\n",
      "Test Accuracy: 0.9338790931989924\n",
      "              precision    recall  f1-score   support\n",
      "\n",
      "         0.0       0.88      0.99      0.93       348\n",
      "         1.0       0.94      0.82      0.88       422\n",
      "         2.0       0.92      0.94      0.93       390\n",
      "         3.0       0.99      1.00      0.99       428\n",
      "\n",
      "    accuracy                           0.93      1588\n",
      "   macro avg       0.93      0.94      0.93      1588\n",
      "weighted avg       0.94      0.93      0.93      1588\n",
      "\n",
      "[[343   5   0   0]\n",
      " [ 47 347  28   0]\n",
      " [  0  19 367   4]\n",
      " [  0   0   2 426]]\n"
     ]
    }
   ],
   "execution_count": 101
  },
  {
   "metadata": {
    "ExecuteTime": {
     "end_time": "2025-08-27T19:05:02.698101Z",
     "start_time": "2025-08-27T19:05:02.695787Z"
    }
   },
   "cell_type": "code",
   "source": "",
   "id": "854f43203933e4dd",
   "outputs": [],
   "execution_count": null
  },
  {
   "metadata": {
    "ExecuteTime": {
     "end_time": "2025-08-27T19:05:02.758445Z",
     "start_time": "2025-08-27T19:05:02.743442Z"
    }
   },
   "cell_type": "code",
   "source": [
    "# Modelleri karşılaştır\n",
    "models = {\n",
    "    'SVM RBF': (svm_rbf_pred_train, svm_rbf_pred_test),\n",
    "    'SVM Linear': (svm_linear_pred_train, svm_linear_pred_test),\n",
    "    'SVM Poly': (svm_poly_pred_train, svm_poly_pred_test)\n",
    "}\n",
    "\n",
    "print(\"Model Performans Karşılaştırması:\")\n",
    "print(\"-\" * 50)\n",
    "for name, (train_pred, test_pred) in models.items():\n",
    "    train_acc = accuracy_score(y_train, train_pred)\n",
    "    test_acc = accuracy_score(y_test, test_pred)\n",
    "    print(f\"{name:15} | Train: {train_acc:.4f} | Test: {test_acc:.4f}\")"
   ],
   "id": "92e385945c671a37",
   "outputs": [
    {
     "name": "stdout",
     "output_type": "stream",
     "text": [
      "Model Performans Karşılaştırması:\n",
      "--------------------------------------------------\n",
      "SVM RBF         | Train: 0.9154 | Test: 0.9270\n",
      "SVM Linear      | Train: 0.8954 | Test: 0.9055\n",
      "SVM Poly        | Train: 0.9030 | Test: 0.9125\n"
     ]
    }
   ],
   "execution_count": 102
  },
  {
   "metadata": {},
   "cell_type": "markdown",
   "source": "YORUMLARIM",
   "id": "1c53c91bbc853d87"
  },
  {
   "metadata": {
    "ExecuteTime": {
     "end_time": "2025-08-27T19:05:02.828313Z",
     "start_time": "2025-08-27T19:05:02.823535Z"
    }
   },
   "cell_type": "code",
   "source": [
    "\"\"\"\n",
    "Şöyle bir durum var. aykırı değerler vardı evet ama en az good'tan en fazla hazardoustan gitti. Yani aykırı değerleri çıkarmadan da bir ölçüm yapmalıyım.\n",
    "\"\"\""
   ],
   "id": "6c0cedcc56e9ee3b",
   "outputs": [
    {
     "data": {
      "text/plain": [
       "\"\\nŞöyle bir durum var. aykırı değerler vardı evet ama en az good'tan en fazla hazardoustan gitti. Yani aykırı değerleri çıkarmadan da bir ölçüm yapmalıyım.\\n\""
      ]
     },
     "execution_count": 103,
     "metadata": {},
     "output_type": "execute_result"
    }
   ],
   "execution_count": 103
  },
  {
   "metadata": {
    "ExecuteTime": {
     "end_time": "2025-08-27T19:05:02.924864Z",
     "start_time": "2025-08-27T19:05:02.917761Z"
    }
   },
   "cell_type": "code",
   "source": [
    "\"\"\"\n",
    "AYKIRI DEĞERLERİ ÇIKARDIĞIMDA BAŞARI ORANI DÜŞMÜŞTÜ. ben de sadece gerçekten çok aykırıları çıkarıdım.\n",
    "\"\"\""
   ],
   "id": "4edc6d254a9779de",
   "outputs": [
    {
     "data": {
      "text/plain": [
       "'\\nAYKIRI DEĞERLERİ ÇIKARDIĞIMDA BAŞARI ORANI DÜŞMÜŞTÜ. ben de sadece gerçekten çok aykırıları çıkarıdım.\\n'"
      ]
     },
     "execution_count": 104,
     "metadata": {},
     "output_type": "execute_result"
    }
   ],
   "execution_count": 104
  },
  {
   "metadata": {
    "ExecuteTime": {
     "end_time": "2025-08-27T19:05:03.002407Z",
     "start_time": "2025-08-27T19:05:02.997747Z"
    }
   },
   "cell_type": "code",
   "source": [
    "\"\"\"\n",
    "SVM'E BAKMAYI UNUTMA.\n",
    "\"\"\""
   ],
   "id": "dee3ccdb4b64fb92",
   "outputs": [
    {
     "data": {
      "text/plain": [
       "\"\\nSVM'E BAKMAYI UNUTMA.\\n\""
      ]
     },
     "execution_count": 105,
     "metadata": {},
     "output_type": "execute_result"
    }
   ],
   "execution_count": 105
  },
  {
   "metadata": {
    "ExecuteTime": {
     "end_time": "2025-08-27T19:05:03.081905Z",
     "start_time": "2025-08-27T19:05:03.076810Z"
    }
   },
   "cell_type": "code",
   "source": [
    "\"\"\"\n",
    "Hem manuel boyut indirgeme yapıp hem de PCA yapmak mantıklı değil. Ayrıca kolon sayımız az PCA yapmasak da olabilir ama manuel olarak PM2.5'i kaldıracağımıza PCA kullanabiliriz.\n",
    "\"\"\""
   ],
   "id": "96bc8e14a7890df8",
   "outputs": [
    {
     "data": {
      "text/plain": [
       "\"\\nHem manuel boyut indirgeme yapıp hem de PCA yapmak mantıklı değil. Ayrıca kolon sayımız az PCA yapmasak da olabilir ama manuel olarak PM2.5'i kaldıracağımıza PCA kullanabiliriz.\\n\""
      ]
     },
     "execution_count": 106,
     "metadata": {},
     "output_type": "execute_result"
    }
   ],
   "execution_count": 106
  }
 ],
 "metadata": {
  "kernelspec": {
   "display_name": "Python 3",
   "language": "python",
   "name": "python3"
  },
  "language_info": {
   "codemirror_mode": {
    "name": "ipython",
    "version": 2
   },
   "file_extension": ".py",
   "mimetype": "text/x-python",
   "name": "python",
   "nbconvert_exporter": "python",
   "pygments_lexer": "ipython2",
   "version": "2.7.6"
  }
 },
 "nbformat": 4,
 "nbformat_minor": 5
}
